{
 "cells": [
  {
   "cell_type": "markdown",
   "metadata": {
    "pycharm": {
     "name": "#%% md\n"
    }
   },
   "source": [
    "# CSV_datasets_creation"
   ]
  },
  {
   "cell_type": "code",
   "execution_count": 1,
   "metadata": {
    "pycharm": {
     "name": "#%%\n"
    }
   },
   "outputs": [],
   "source": [
    "#                                                   LIBRARIES\n",
    "\n",
    "import os\n",
    "\n",
    "# Image preprocesssing- processing\n",
    "import cv2\n",
    "import numpy as np\n",
    "\n",
    "# images\n",
    "from matplotlib import pyplot as plt\n",
    "\n",
    "import math\n",
    "import random"
   ]
  },
  {
   "cell_type": "code",
   "execution_count": 2,
   "metadata": {
    "pycharm": {
     "name": "#%%\n"
    }
   },
   "outputs": [],
   "source": [
    "# Paths\n",
    "DATASETS_FOLDER = \"../../datasets/mnist/\"\n",
    "OUTPUT_FOLDER = \"../../csv/\""
   ]
  },
  {
   "cell_type": "code",
   "execution_count": 3,
   "metadata": {
    "pycharm": {
     "name": "#%%\n"
    }
   },
   "outputs": [],
   "source": [
    "# Train/Val/Test ratios\n",
    "DATASET_RATIOS = [0.8,0.15,0.05] \n",
    "\n",
    "assert np.sum(DATASET_RATIOS) == 1, \"Las proporciones no suman 1\""
   ]
  },
  {
   "cell_type": "code",
   "execution_count": 4,
   "metadata": {
    "pycharm": {
     "name": "#%%\n"
    }
   },
   "outputs": [],
   "source": [
    "DATASETS_FOLDER = os.path.abspath(DATASETS_FOLDER) + os.sep\n",
    "OUTPUT_FOLDER = os.path.abspath(OUTPUT_FOLDER) + os.sep\n",
    "\n",
    "DATASETS_FOLDER = DATASETS_FOLDER.replace(\"\\\\\",\"/\")\n",
    "OUTPUT_FOLDER   = OUTPUT_FOLDER.replace(\"\\\\\",\"/\")"
   ]
  },
  {
   "cell_type": "code",
   "execution_count": 5,
   "metadata": {
    "pycharm": {
     "name": "#%%\n"
    }
   },
   "outputs": [
    {
     "data": {
      "text/plain": [
       "'/media/manuel/Extreme SSD/00 IMPORTANTE/Dropbox_Total/Dropbox_Almacen/Estudios/20221009 Alba/Animal_Recognition_Neural_Network-master/datasets/mnist/'"
      ]
     },
     "execution_count": 5,
     "metadata": {},
     "output_type": "execute_result"
    }
   ],
   "source": [
    "DATASETS_FOLDER"
   ]
  },
  {
   "cell_type": "code",
   "execution_count": 6,
   "metadata": {
    "pycharm": {
     "name": "#%%\n"
    }
   },
   "outputs": [
    {
     "name": "stdout",
     "output_type": "stream",
     "text": [
      "/media/manuel/Extreme SSD/00 IMPORTANTE/Dropbox_Total/Dropbox_Almacen/Estudios/20221009 Alba/Animal_Recognition_Neural_Network-master/csv/mnist_train.csv\n"
     ]
    }
   ],
   "source": [
    "ROOT_DATASETS_FOLDER = DATASETS_FOLDER.split(\"/\")[-2]\n",
    "\n",
    "TRAIN_CSV_NAME = OUTPUT_FOLDER + ROOT_DATASETS_FOLDER + '_train.csv'\n",
    "VAL_CSV_NAME   = OUTPUT_FOLDER + ROOT_DATASETS_FOLDER + '_val.csv'\n",
    "TEST_CSV_NAME  = OUTPUT_FOLDER + ROOT_DATASETS_FOLDER + '_test.csv'\n",
    "\n",
    "print(TRAIN_CSV_NAME)\n",
    "\n",
    "\n",
    "# other variables\n",
    "IMG_EXTENSIONS = ['jpg','JPG','png','PNG']\n",
    "\n",
    "N_IMAGES_TO_SHOW = 4\n",
    "\n"
   ]
  },
  {
   "cell_type": "code",
   "execution_count": 7,
   "metadata": {
    "pycharm": {
     "name": "#%%\n"
    }
   },
   "outputs": [],
   "source": [
    "# TO-DO Al correr el notebook verificar que no existen test, train y val (csvs)"
   ]
  },
  {
   "cell_type": "code",
   "execution_count": 8,
   "metadata": {
    "pycharm": {
     "name": "#%%\n"
    }
   },
   "outputs": [],
   "source": [
    "\n",
    "#                                       getFilesWithAbsolutePath(path, ext = '')\n",
    "\n",
    "# Dado un directorio devuelve una lista con el path absoluto de todos los ficheros con extensión ext\n",
    "\n",
    "def getFilesWithAbsolutePath(path, ext = ''):\n",
    "    # to store files in a list\n",
    "    list = []\n",
    "\n",
    "    if bool(ext):\n",
    "        ext = '.' + ext\n",
    "\n",
    "    # dirs=directories\n",
    "    for (root, folder, files) in os.walk(path):\n",
    "        for file in files:\n",
    "            filePath = os.path.abspath(os.path.join(root, file))\n",
    "            if ext in filePath:\n",
    "                list.append(filePath)\n",
    "                #print(filePath)\n",
    "\n",
    "    return list\n",
    "\n",
    "#lista = getFilesWithAbsolutePath(mypath, ext='pdf')\n",
    "#print(len(lista), lista[:3])\n",
    "\n",
    "\n",
    "#                            getFilesWithAbsolutePathListaExtensiones(path, extList = [''])\n",
    "\n",
    "# Dado un directorio devuelve una lista con el path absoluto de\n",
    "# todos los ficheros con extensión en extList\n",
    "\n",
    "def getFilesWithAbsolutePathListaExtensiones(path, extList = IMG_EXTENSIONS):\n",
    "    # to store files in a list\n",
    "    l_list = []\n",
    "\n",
    "    if len(extList) == 0:\n",
    "        extList = ['']\n",
    "\n",
    "    for ext in extList:\n",
    "        l_list += getFilesWithAbsolutePath(path, ext)\n",
    "\n",
    "    return l_list"
   ]
  },
  {
   "cell_type": "code",
   "execution_count": 9,
   "metadata": {
    "pycharm": {
     "name": "#%%\n"
    }
   },
   "outputs": [],
   "source": [
    "def read_csv(input_csv):\n",
    "    imgs_relative_path , labels = np.loadtxt(input_csv,dtype=str,\n",
    "                                     delimiter=',', usecols=(0, 1), unpack=True)\n",
    "    return imgs_relative_path, labels\n",
    "\n",
    "def write_array_to_csv(csvarray, output_csv):\n",
    "    try:\n",
    "        np.savetxt(output_csv, csvarray, delimiter=\",\",fmt='%s')\n",
    "        print()\n",
    "        print('CSV salvado: ', output_csv)\n",
    "    except:\n",
    "        print('ERROR ESCRITURA FINAL CSV:', output_csv)\n",
    "        \n",
    "        "
   ]
  },
  {
   "cell_type": "code",
   "execution_count": 10,
   "metadata": {
    "pycharm": {
     "name": "#%%\n"
    }
   },
   "outputs": [],
   "source": [
    "# TO-DO 1: reparto de imagenes sea haga por clases para que salgan balanceadas (respecto al num original de imgs) y no con el total de imagenes de todas las clases"
   ]
  },
  {
   "cell_type": "code",
   "execution_count": 11,
   "metadata": {
    "pycharm": {
     "name": "#%%\n"
    }
   },
   "outputs": [],
   "source": [
    "def read_imgs_to_array(path_dataset = DATASETS_FOLDER, ext_list = IMG_EXTENSIONS):\n",
    "    imgs_list = getFilesWithAbsolutePathListaExtensiones(path_dataset, ext_list)\n",
    "    csvArray = np.empty([len(imgs_list), 2], dtype=object)\n",
    "\n",
    "    labels = os.listdir(DATASETS_FOLDER)\n",
    "\n",
    "    aux = 0\n",
    "    for idx, label in enumerate(labels):\n",
    "\n",
    "        label_imgs_list = getFilesWithAbsolutePathListaExtensiones(path_dataset + label, ext_list)\n",
    "\n",
    "        lista_aux = [ROOT_DATASETS_FOLDER + os.sep + item.split(os.sep + ROOT_DATASETS_FOLDER + os.sep)[-1] for item in label_imgs_list]\n",
    "        csvArray[aux: aux + len(label_imgs_list),0] = lista_aux\n",
    "        csvArray[aux: aux + len(label_imgs_list),1] = label\n",
    "        aux += len(label_imgs_list)\n",
    "        \n",
    "    return csvArray\n",
    "\n",
    "\n",
    "def dict_to_array(dictionary):\n",
    "    labels = list(dictionary.keys())\n",
    "\n",
    "    n_elements = 0\n",
    "\n",
    "    for label in labels:\n",
    "        n_elements += len(dictionary[label])\n",
    "\n",
    "    csvArray = np.empty([n_elements + 1, 2], dtype=object)\n",
    "\n",
    "    csvArray[0,0] = \"path\"\n",
    "    csvArray[0,1] = \"class\"\n",
    "\n",
    "    aux = 1\n",
    "    for label in labels:\n",
    "        label_imgs_list = list(dictionary[label])\n",
    "        csvArray[aux: aux + len(label_imgs_list),0] = label_imgs_list\n",
    "        csvArray[aux: aux + len(label_imgs_list),1] = label\n",
    "        aux += len(label_imgs_list)\n",
    "        \n",
    "    return csvArray"
   ]
  },
  {
   "cell_type": "code",
   "execution_count": 12,
   "metadata": {
    "pycharm": {
     "name": "#%%\n"
    }
   },
   "outputs": [],
   "source": [
    "def create_TrainValTest_dicts_from_array(csvArray):\n",
    "    imgs_path = csvArray[:,0]\n",
    "    labels = csvArray[:,1]\n",
    "\n",
    "    unique_labels = np.unique(labels)\n",
    "\n",
    "    assert len(labels) == len(imgs_path)\n",
    "\n",
    "    classesDict = {}\n",
    "    for label in unique_labels:\n",
    "        classesDict[label] = []\n",
    "\n",
    "    # Unimos los paths de una misma clase en una lista\n",
    "    for idx, label in enumerate(labels):\n",
    "        img_path_standard = imgs_path[idx].replace(\"\\\\\",\"/\")\n",
    "        classesDict[label].append(img_path_standard)\n",
    "\n",
    "\n",
    "    train_dict = {}\n",
    "    val_dict = {}\n",
    "    test_dict = {}\n",
    "\n",
    "    # Repartimos Los paths proporcionalmente a la ratio pedida y los metemos en los arrays correspondientes  \n",
    "    for label in unique_labels:\n",
    "        print(label)\n",
    "        train_dict[label] = []\n",
    "        val_dict[label]   = []\n",
    "        test_dict[label]  = []\n",
    "        cuantos = [0,0,0] # elementos que irán a train, val y test.\n",
    "        lista = list(classesDict[label])\n",
    "        n_class_elements = int(len(lista))\n",
    "\n",
    "        cuantos[1] = int(np.ceil(n_class_elements*DATASET_RATIOS[1]))\n",
    "        cuantos[2] = int(np.ceil(n_class_elements*DATASET_RATIOS[2]))\n",
    "        cuantos[0] = int(n_class_elements-cuantos[2]-cuantos[1])\n",
    "\n",
    "        print('      [Train, Val, Test] =', cuantos)\n",
    "        indices = list(range(n_class_elements))\n",
    "        random.shuffle(indices)\n",
    "\n",
    "        for idx in range(0, cuantos[0]):\n",
    "            train_dict[label].append(lista[indices[idx]])\n",
    "        for idx in range(cuantos[0],cuantos[0]+cuantos[1]):\n",
    "            val_dict[label].append(lista[indices[idx]])\n",
    "        for idx in range(cuantos[0]+cuantos[1],cuantos[0]+cuantos[1]+cuantos[2]):\n",
    "            test_dict[label].append(lista[indices[idx]])\n",
    "\n",
    "    return train_dict, val_dict, test_dict"
   ]
  },
  {
   "cell_type": "code",
   "execution_count": null,
   "metadata": {
    "pycharm": {
     "name": "#%%\n"
    }
   },
   "outputs": [],
   "source": []
  },
  {
   "cell_type": "code",
   "execution_count": 13,
   "metadata": {
    "pycharm": {
     "name": "#%%\n"
    }
   },
   "outputs": [
    {
     "name": "stdout",
     "output_type": "stream",
     "text": [
      "0\n",
      "      [Train, Val, Test] = [3305, 620, 207]\n",
      "1\n",
      "      [Train, Val, Test] = [3746, 703, 235]\n",
      "2\n",
      "      [Train, Val, Test] = [3341, 627, 209]\n",
      "3\n",
      "      [Train, Val, Test] = [3480, 653, 218]\n",
      "4\n",
      "      [Train, Val, Test] = [3257, 611, 204]\n",
      "5\n",
      "      [Train, Val, Test] = [3035, 570, 190]\n",
      "6\n",
      "      [Train, Val, Test] = [3309, 621, 207]\n",
      "7\n",
      "      [Train, Val, Test] = [3519, 661, 221]\n",
      "8\n",
      "      [Train, Val, Test] = [3249, 610, 204]\n",
      "9\n",
      "      [Train, Val, Test] = [3349, 629, 210]\n",
      "\n",
      "CSV salvado:  /media/manuel/Extreme SSD/00 IMPORTANTE/Dropbox_Total/Dropbox_Almacen/Estudios/20221009 Alba/Animal_Recognition_Neural_Network-master/csv/mnist_train.csv\n",
      "\n",
      "CSV salvado:  /media/manuel/Extreme SSD/00 IMPORTANTE/Dropbox_Total/Dropbox_Almacen/Estudios/20221009 Alba/Animal_Recognition_Neural_Network-master/csv/mnist_val.csv\n",
      "\n",
      "CSV salvado:  /media/manuel/Extreme SSD/00 IMPORTANTE/Dropbox_Total/Dropbox_Almacen/Estudios/20221009 Alba/Animal_Recognition_Neural_Network-master/csv/mnist_test.csv\n"
     ]
    }
   ],
   "source": [
    "csvArray = read_imgs_to_array()\n",
    "\n",
    "train_dict, val_dict, test_dict = create_TrainValTest_dicts_from_array(csvArray)\n",
    "\n",
    "train_array = dict_to_array(train_dict)\n",
    "\n",
    "val_array   = dict_to_array(val_dict )\n",
    "test_array  = dict_to_array(test_dict )\n",
    "\n",
    "write_array_to_csv(train_array, TRAIN_CSV_NAME)\n",
    "write_array_to_csv(  val_array,   VAL_CSV_NAME)\n",
    "write_array_to_csv( test_array,  TEST_CSV_NAME)"
   ]
  },
  {
   "cell_type": "code",
   "execution_count": 14,
   "metadata": {
    "pycharm": {
     "name": "#%%\n"
    }
   },
   "outputs": [],
   "source": [
    "def visualizacion():\n",
    "    # create initial min values\n",
    "    min_train = float('inf')\n",
    "    min_test = float('inf')\n",
    "    min_val = float('inf')\n",
    "\n",
    "    # for table formatting\n",
    "    separator = '\\t\\t' + \"|\" + '\\t\\t'\n",
    "    separator_table = '\\t\\t' + \"|\" + '\\t\\t\\t'\n",
    "    horizontal = \"-----------------------------------------------------------------------------\"\n",
    "\n",
    "    # header or table\n",
    "    print(\"\\t\" + separator + \"train\" + separator + \"test\" + separator + \"validation\")\n",
    "    print(horizontal)\n",
    "\n",
    "    # print each label data\n",
    "    for label in list(np.unique(csvArray[:,1])):\n",
    "        # number of instances for current label for train, test and val\n",
    "        n_train = len(train_dict[label])\n",
    "        n_test = len(test_dict[label])\n",
    "        n_validation = len(val_dict[label])\n",
    "\n",
    "        # set new min if necessary\n",
    "        if n_train < min_train: min_train = n_train\n",
    "        if n_test < min_test: min_test = n_test\n",
    "        if n_validation < min_val: min_val = n_validation\n",
    "\n",
    "        print(label + separator_table + str(n_train) + separator_table + str(n_test) + separator_table + str(n_validation))"
   ]
  },
  {
   "cell_type": "code",
   "execution_count": 15,
   "metadata": {
    "pycharm": {
     "name": "#%%\n"
    }
   },
   "outputs": [
    {
     "name": "stdout",
     "output_type": "stream",
     "text": [
      "\t\t\t|\t\ttrain\t\t|\t\ttest\t\t|\t\tvalidation\n",
      "-----------------------------------------------------------------------------\n",
      "0\t\t|\t\t\t3305\t\t|\t\t\t207\t\t|\t\t\t620\n",
      "1\t\t|\t\t\t3746\t\t|\t\t\t235\t\t|\t\t\t703\n",
      "2\t\t|\t\t\t3341\t\t|\t\t\t209\t\t|\t\t\t627\n",
      "3\t\t|\t\t\t3480\t\t|\t\t\t218\t\t|\t\t\t653\n",
      "4\t\t|\t\t\t3257\t\t|\t\t\t204\t\t|\t\t\t611\n",
      "5\t\t|\t\t\t3035\t\t|\t\t\t190\t\t|\t\t\t570\n",
      "6\t\t|\t\t\t3309\t\t|\t\t\t207\t\t|\t\t\t621\n",
      "7\t\t|\t\t\t3519\t\t|\t\t\t221\t\t|\t\t\t661\n",
      "8\t\t|\t\t\t3249\t\t|\t\t\t204\t\t|\t\t\t610\n",
      "9\t\t|\t\t\t3349\t\t|\t\t\t210\t\t|\t\t\t629\n"
     ]
    }
   ],
   "source": [
    "visualizacion()"
   ]
  },
  {
   "cell_type": "code",
   "execution_count": 16,
   "metadata": {
    "pycharm": {
     "name": "#%%\n"
    }
   },
   "outputs": [],
   "source": [
    "# function to take a sample of n_samples from dataset_array and do some tests\n",
    "def sample(dataset_array, n_samples = N_IMAGES_TO_SHOW):\n",
    "    num_rows = 32\n",
    "\n",
    "    random_index = np.random.choice(num_rows, size=n_samples, replace=False)\n",
    "\n",
    "    if 0 in random_index:\n",
    "        for idx, item in enumerate(random_index):\n",
    "            random_index[idx] += 1\n",
    "\n",
    "    sample = dataset_array[random_index,:] #[random_index, :]\n",
    "\n",
    "    for idx, img in enumerate(sample):\n",
    "        sample[idx,0] = \"../../datasets/\" + img[0]\n",
    "    # print(sample)\n",
    "    return sample\n",
    "\n",
    "def show_sample(sample_data, n_samples = N_IMAGES_TO_SHOW):\n",
    "    sample_imgs = sample_data[:, 0]\n",
    "    sample_labels = sample_data[:, 1]\n",
    "\n",
    "    sqrt_N_SAMPLES = int(math.sqrt(n_samples))\n",
    "\n",
    "    r, c = sqrt_N_SAMPLES, sqrt_N_SAMPLES\n",
    "    fig = plt.figure(figsize=(2*c, 2*r))\n",
    "    for _r in range(r):\n",
    "        for _c in range(c):\n",
    "            ix = _r*c + _c\n",
    "            ax = plt.subplot(r, c, ix + 1)\n",
    "            img, label = sample_imgs[ix], sample_labels[ix]\n",
    "            img = cv2.imread(os.path.abspath(img))\n",
    "            # TO-DO Las imagenes salen con un color raro\n",
    "            img = cv2.cvtColor(img, cv2.COLOR_BGR2RGB)\n",
    "            ax.axis(\"off\")\n",
    "            ax.imshow(img, cmap=\"gray\", interpolation='bicubic')\n",
    "            ax.set_title(label)\n",
    "    plt.tight_layout()\n",
    "    plt.show()"
   ]
  },
  {
   "cell_type": "code",
   "execution_count": 17,
   "metadata": {
    "pycharm": {
     "name": "#%%\n"
    }
   },
   "outputs": [
    {
     "data": {
      "image/png": "[encoded data removed]",
      "text/plain": [
       "<Figure size 400x400 with 4 Axes>"
      ]
     },
     "metadata": {},
     "output_type": "display_data"
    }
   ],
   "source": [
    "sample_dataset = sample(dataset_array = train_array, n_samples=4)\n",
    "show_sample(sample_dataset)\n",
    "sample_imgs = sample_dataset[:, 0]\n",
    "sample_labels = sample_dataset[:, 1]"
   ]
  },
  {
   "cell_type": "code",
   "execution_count": null,
   "metadata": {
    "pycharm": {
     "name": "#%%\n"
    }
   },
   "outputs": [],
   "source": []
  },
  {
   "cell_type": "code",
   "execution_count": null,
   "metadata": {
    "pycharm": {
     "name": "#%%\n"
    }
   },
   "outputs": [],
   "source": []
  }
 ],
 "metadata": {
  "kernelspec": {
   "display_name": "Python 3 (ipykernel)",
   "language": "python",
   "name": "python3"
  },
  "language_info": {
   "codemirror_mode": {
    "name": "ipython",
    "version": 3
   },
   "file_extension": ".py",
   "mimetype": "text/x-python",
   "name": "python",
   "nbconvert_exporter": "python",
   "pygments_lexer": "ipython3",
   "version": "3.10.6"
  }
 },
 "nbformat": 4,
 "nbformat_minor": 1
}
