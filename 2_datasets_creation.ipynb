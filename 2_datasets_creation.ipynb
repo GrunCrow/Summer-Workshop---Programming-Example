{
 "cells": [
  {
   "cell_type": "code",
   "execution_count": 18,
   "outputs": [],
   "source": [
    "#                                                   LIBRARIES\n",
    "\n",
    "# Image preprocesssing- processing\n",
    "import numpy as np\n",
    "\n",
    "from constants import *"
   ],
   "metadata": {
    "collapsed": false,
    "pycharm": {
     "name": "#%%\n"
    }
   }
  },
  {
   "cell_type": "code",
   "execution_count": 19,
   "outputs": [],
   "source": [
    "csv_name = \"final_imgs_and_labels.csv\""
   ],
   "metadata": {
    "collapsed": false,
    "pycharm": {
     "name": "#%%\n"
    }
   }
  },
  {
   "cell_type": "code",
   "execution_count": 21,
   "outputs": [],
   "source": [
    "INPUT_CSV = CSV_FOLDER + os.sep + csv_name"
   ],
   "metadata": {
    "collapsed": false,
    "pycharm": {
     "name": "#%%\n"
    }
   }
  },
  {
   "cell_type": "code",
   "execution_count": 22,
   "outputs": [],
   "source": [
    "# to load the np_array\n",
    "# imgs_animals = np.load(\"../np_arrays/imgs_animals.npy\", allow_pickle=True)"
   ],
   "metadata": {
    "collapsed": false,
    "pycharm": {
     "name": "#%%\n"
    }
   }
  },
  {
   "cell_type": "code",
   "execution_count": 23,
   "outputs": [],
   "source": [
    "# from the csv -> separate into:\n",
    "#  - 80% train\n",
    "#  - 10% test\n",
    "#  - 10% validation\n",
    "\n",
    "# INPUT_CSV = \"../csv/imgs_and_labels_list_resized.csv\""
   ],
   "metadata": {
    "collapsed": false,
    "pycharm": {
     "name": "#%%\n"
    }
   }
  },
  {
   "cell_type": "code",
   "execution_count": 36,
   "outputs": [],
   "source": [
    "def read_csv(input_csv = INPUT_CSV):\n",
    "    csvArray = np.loadtxt(input_csv,dtype=str,\n",
    "                                     delimiter=',', usecols=(0, 1), unpack=True)\n",
    "    return csvArray"
   ],
   "metadata": {
    "collapsed": false,
    "pycharm": {
     "name": "#%%\n"
    }
   }
  },
  {
   "cell_type": "code",
   "execution_count": 37,
   "outputs": [
    {
     "data": {
      "text/plain": "array([['../../datasets/animals/final/Bear_0.jpg', 'Bear'],\n       ['../../datasets/animals/final/Bear_0_1.jpg', 'Bear'],\n       ['../../datasets/animals/final/Bear_0_2.jpg', 'Bear'],\n       ...,\n       ['../../datasets/animals/final/Turtle_9_2.jpg', 'Turtle'],\n       ['../../datasets/animals/final/Turtle_9_3.jpg', 'Turtle'],\n       ['../../datasets/animals/final/Turtle_9_4.jpg', 'Turtle']],\n      dtype='<U46')"
     },
     "execution_count": 37,
     "metadata": {},
     "output_type": "execute_result"
    }
   ],
   "source": [
    "# read csv and extract data\n",
    "csvArray = read_csv(INPUT_CSV)\n",
    "# csvArray = np.random.shuffle(np.transpose(csvArray))\n",
    "csvArray = np.transpose(csvArray)\n",
    "csvArray"
   ],
   "metadata": {
    "collapsed": false,
    "pycharm": {
     "name": "#%%\n"
    }
   }
  },
  {
   "cell_type": "code",
   "execution_count": 38,
   "outputs": [
    {
     "name": "stdout",
     "output_type": "stream",
     "text": [
      "[['Bear' '3320']\n",
      " ['Chicken' '2625']\n",
      " ['Turtle' '3170']]\n"
     ]
    }
   ],
   "source": [
    "# check num of instances per classes\n",
    "labels = csvArray[:,1]\n",
    "labels\n",
    "unique, counts = np.unique(labels, return_counts=True)\n",
    "print(np.asarray((unique, counts)).T)\n",
    "\n",
    "'''n_test_bear = counts[0] * 0.8\n",
    "n_test_chicken = counts[1] * 0.8\n",
    "n_test_turtle = counts[2] * 0.8\n",
    "\n",
    "n_train_bear = counts[0] * 0.1\n",
    "n_train_chicken = counts[1] * 0.1\n",
    "n_train_turtle = counts[2] * 0.1\n",
    "\n",
    "n_validation_bear = counts[0] * 0.1\n",
    "n_validation_chicken = counts[1] * 0.1\n",
    "n_validation_turtle = counts[2] * 0.1'''"
   ],
   "metadata": {
    "collapsed": false,
    "pycharm": {
     "name": "#%%\n"
    }
   }
  },
  {
   "cell_type": "code",
   "execution_count": 44,
   "outputs": [],
   "source": [
    "# divide data into the 3 data set parts\n",
    "def extract_sets(imgs_relative_path, labels):\n",
    "    train_set = []\n",
    "    train_labels = []\n",
    "    test_set = []\n",
    "    test_labels = []\n",
    "    validation_set = []\n",
    "    validation_labels = []\n",
    "\n",
    "    assert len(labels) == len(imgs_relative_path)\n",
    "\n",
    "    bear_set = []\n",
    "    chicken_set = []\n",
    "    turtle_set = []\n",
    "\n",
    "    for idx, img in enumerate(imgs_relative_path):\n",
    "        if labels[idx] == \"Bear\":\n",
    "            bear_set.append(img)\n",
    "        elif labels[idx] == \"Chicken\":\n",
    "            chicken_set.append(img)\n",
    "        elif labels[idx] == \"Turtle\":\n",
    "            turtle_set.append(img)\n",
    "\n",
    "    # bear\n",
    "    n_elements = len(bear_set)\n",
    "    n_train = n_elements * 0.8\n",
    "    n_test = n_elements * 0.1\n",
    "    n_validation = n_elements * 0.1\n",
    "\n",
    "    for idx, img in enumerate(bear_set):    # 'Bear' = 0\n",
    "        if idx < n_train:\n",
    "            train_set.append(img)\n",
    "            train_labels.append(0)\n",
    "        elif idx < n_train + n_test:\n",
    "            test_set.append(img)\n",
    "            test_labels.append(0)\n",
    "        else:\n",
    "            validation_set.append(img)\n",
    "            validation_labels.append(0)\n",
    "\n",
    "    # chicken\n",
    "    n_elements = len(chicken_set)\n",
    "    n_train = n_elements * 0.8\n",
    "    n_test = n_elements * 0.1\n",
    "    # n_validation = n_elements * 0.1\n",
    "\n",
    "    for idx, img in enumerate(chicken_set): # 'Chicken' = 1\n",
    "        if idx < n_train:\n",
    "            train_set.append(img)\n",
    "            train_labels.append(1)\n",
    "        elif idx < n_train + n_test:\n",
    "            test_set.append(img)\n",
    "            test_labels.append(1)\n",
    "        else:\n",
    "            validation_set.append(img)\n",
    "            validation_labels.append(1)\n",
    "\n",
    "    # Turtle\n",
    "    n_elements = len(turtle_set)    # 'Turtle' = 2\n",
    "    n_train = n_elements * 0.8\n",
    "    n_test = n_elements * 0.1\n",
    "    n_validation = n_elements * 0.1\n",
    "\n",
    "    for idx, img in enumerate(turtle_set):\n",
    "        if idx < n_train:\n",
    "            train_set.append(img)\n",
    "            train_labels.append(2)\n",
    "        elif idx < n_train + n_test:\n",
    "            test_set.append(img)\n",
    "            test_labels.append(2)\n",
    "        else:\n",
    "            validation_set.append(img)\n",
    "            validation_labels.append(2)\n",
    "\n",
    "    trainArray = np.column_stack(((train_set), (train_labels)))\n",
    "    testArray = np.column_stack(((test_set), (test_labels)))\n",
    "    validationArray = np.column_stack(((validation_set), (validation_labels)))\n",
    "\n",
    "    csv_name_train = \"final_train_list.csv\"\n",
    "    csv_name_test = \"final_test_list.csv\"\n",
    "    csv_name_validation = \"final_validation_list.csv\"\n",
    "\n",
    "    csvtrain = CSV_FOLDER + os.sep + csv_name_train\n",
    "    csvtest = CSV_FOLDER + os.sep + csv_name_test\n",
    "    csvvalidation = CSV_FOLDER + os.sep + csv_name_validation\n",
    "\n",
    "    np.random.shuffle(trainArray)\n",
    "    np.random.shuffle(testArray)\n",
    "    np.random.shuffle(validationArray)\n",
    "\n",
    "    try:\n",
    "        np.savetxt(csvtrain, trainArray, delimiter=\",\",fmt='%s')\n",
    "        np.savetxt(csvtest, testArray, delimiter=\",\",fmt='%s')\n",
    "        np.savetxt(csvvalidation, validationArray, delimiter=\",\",fmt='%s')\n",
    "\n",
    "        print()\n",
    "        print('CSVS saved')\n",
    "    except:\n",
    "        print('ERROR WRITING CSV')"
   ],
   "metadata": {
    "collapsed": false,
    "pycharm": {
     "name": "#%%\n"
    }
   }
  },
  {
   "cell_type": "code",
   "execution_count": 45,
   "outputs": [
    {
     "name": "stdout",
     "output_type": "stream",
     "text": [
      "\n",
      "CSVS saved\n"
     ]
    }
   ],
   "source": [
    "imgs_relative_path = csvArray[:,0]\n",
    "extract_sets(imgs_relative_path, labels)"
   ],
   "metadata": {
    "collapsed": false,
    "pycharm": {
     "name": "#%%\n"
    }
   }
  },
  {
   "cell_type": "code",
   "execution_count": 1,
   "outputs": [],
   "source": [],
   "metadata": {
    "collapsed": false,
    "pycharm": {
     "name": "#%%\n"
    }
   }
  },
  {
   "cell_type": "code",
   "execution_count": 1,
   "outputs": [],
   "source": [],
   "metadata": {
    "collapsed": false,
    "pycharm": {
     "name": "#%%\n"
    }
   }
  },
  {
   "cell_type": "code",
   "execution_count": 1,
   "outputs": [],
   "source": [],
   "metadata": {
    "collapsed": false,
    "pycharm": {
     "name": "#%%\n"
    }
   }
  },
  {
   "cell_type": "code",
   "execution_count": 1,
   "outputs": [],
   "source": [],
   "metadata": {
    "collapsed": false,
    "pycharm": {
     "name": "#%%\n"
    }
   }
  },
  {
   "cell_type": "code",
   "execution_count": 1,
   "outputs": [],
   "source": [],
   "metadata": {
    "collapsed": false,
    "pycharm": {
     "name": "#%%\n"
    }
   }
  },
  {
   "cell_type": "code",
   "execution_count": 1,
   "outputs": [],
   "source": [],
   "metadata": {
    "collapsed": false,
    "pycharm": {
     "name": "#%%\n"
    }
   }
  },
  {
   "cell_type": "code",
   "execution_count": 1,
   "outputs": [],
   "source": [],
   "metadata": {
    "collapsed": false,
    "pycharm": {
     "name": "#%%\n"
    }
   }
  },
  {
   "cell_type": "code",
   "execution_count": 1,
   "outputs": [],
   "source": [],
   "metadata": {
    "collapsed": false,
    "pycharm": {
     "name": "#%%\n"
    }
   }
  },
  {
   "cell_type": "code",
   "execution_count": null,
   "outputs": [],
   "source": [],
   "metadata": {
    "collapsed": false,
    "pycharm": {
     "name": "#%%\n"
    }
   }
  }
 ],
 "metadata": {
  "kernelspec": {
   "display_name": "Python 3",
   "language": "python",
   "name": "python3"
  },
  "language_info": {
   "codemirror_mode": {
    "name": "ipython",
    "version": 2
   },
   "file_extension": ".py",
   "mimetype": "text/x-python",
   "name": "python",
   "nbconvert_exporter": "python",
   "pygments_lexer": "ipython2",
   "version": "2.7.6"
  }
 },
 "nbformat": 4,
 "nbformat_minor": 0
}