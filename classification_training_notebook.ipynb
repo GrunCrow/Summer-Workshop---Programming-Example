{
 "cells": [
  {
   "cell_type": "markdown",
   "source": [
    "# Classification Training Notebook\n",
    "\n",
    "Notebook for the Training of a Classification, 2 possible classifications:\n",
    "- Mnist dataset (numbers)\n",
    "- Animals"
   ],
   "metadata": {
    "collapsed": false,
    "pycharm": {
     "name": "#%% md\n"
    }
   }
  },
  {
   "cell_type": "markdown",
   "source": [
    "TO-DO: Descargar tf_flowers en un directorio, para probar con el mnist y flowers, asi probar temas rgb"
   ],
   "metadata": {
    "collapsed": false,
    "pycharm": {
     "name": "#%% md\n"
    }
   }
  },
  {
   "cell_type": "markdown",
   "source": [],
   "metadata": {
    "collapsed": false,
    "pycharm": {
     "name": "#%% md\n"
    }
   }
  },
  {
   "cell_type": "markdown",
   "source": [],
   "metadata": {
    "collapsed": false,
    "pycharm": {
     "name": "#%% md\n"
    }
   }
  },
  {
   "cell_type": "markdown",
   "source": [
    "## =========== Imports ==========="
   ],
   "metadata": {
    "collapsed": false,
    "pycharm": {
     "name": "#%% md\n"
    }
   }
  },
  {
   "cell_type": "code",
   "execution_count": 1,
   "metadata": {
    "pycharm": {
     "name": "#%%\n"
    }
   },
   "outputs": [],
   "source": [
    "# Libraries necessaries for the constants\n",
    "import os\n",
    "\n",
    "# Set tensorflow to work with CPU and not GPU\n",
    "os.environ[\"CUDA_VISIBLE_DEVICES\"] = \"-1\"\n",
    "\n",
    "import time\n",
    "import datetime\n",
    "\n",
    "# Dataframe libraries\n",
    "import pandas as pd\n",
    "import numpy as np\n",
    "from sklearn.metrics import classification_report\n",
    "import seaborn as sns\n",
    "\n",
    "import matplotlib.pyplot as plt\n",
    "import matplotlib.image as mpimg\n",
    "\n",
    "# Tensorflow libraries\n",
    "import tensorflow as tf\n",
    "from tensorflow.keras import layers\n",
    "from tensorflow.keras.layers import *\n",
    "from tensorflow.keras.optimizers import Adam, SGD\n",
    "from tensorflow.keras.callbacks import Callback, EarlyStopping,ModelCheckpoint\n",
    "import keras.models\n",
    "from sklearn.metrics import accuracy_score, f1_score, precision_score, recall_score, average_precision_score, precision_recall_fscore_support\n",
    "from sklearn.metrics import classification_report\n",
    "from sklearn.metrics import confusion_matrix\n",
    "\n",
    "import random\n",
    "import zipfile\n",
    "import itertools"
   ]
  },
  {
   "cell_type": "markdown",
   "source": [],
   "metadata": {
    "collapsed": false,
    "pycharm": {
     "name": "#%% md\n"
    }
   }
  },
  {
   "cell_type": "markdown",
   "source": [],
   "metadata": {
    "collapsed": false,
    "pycharm": {
     "name": "#%% md\n"
    }
   }
  },
  {
   "cell_type": "markdown",
   "source": [],
   "metadata": {
    "collapsed": false,
    "pycharm": {
     "name": "#%% md\n"
    }
   }
  },
  {
   "cell_type": "markdown",
   "source": [],
   "metadata": {
    "collapsed": false,
    "pycharm": {
     "name": "#%% md\n"
    }
   }
  },
  {
   "cell_type": "markdown",
   "source": [
    "## =========== Constants ==========="
   ],
   "metadata": {
    "collapsed": false,
    "pycharm": {
     "name": "#%% md\n"
    }
   }
  },
  {
   "cell_type": "markdown",
   "source": [
    "Dataset to use"
   ],
   "metadata": {
    "collapsed": false,
    "pycharm": {
     "name": "#%% md\n"
    }
   }
  },
  {
   "cell_type": "code",
   "execution_count": 2,
   "outputs": [],
   "source": [
    "dataset = \"mnist\"\n",
    "# dataset = \"animal\""
   ],
   "metadata": {
    "collapsed": false,
    "pycharm": {
     "name": "#%%\n"
    }
   }
  },
  {
   "cell_type": "markdown",
   "source": [
    "#### DataSet Information\n",
    "- *CLASSES*: Classes Labels\n",
    "- *CLASS_NUMBER*: Number of Classes Labels\n",
    "- *CLASS_DICTIONARY*: Dictionary with the labels"
   ],
   "metadata": {
    "collapsed": false,
    "pycharm": {
     "name": "#%% md\n"
    }
   }
  },
  {
   "cell_type": "code",
   "execution_count": 3,
   "outputs": [],
   "source": [
    "if dataset == \"mnist\":\n",
    "    CLASSES = [\"0\", \"1\", \"2\", \"3\", \"4\", \"5\", \"6\", \"7\", \"8\", \"9\" ]\n",
    "elif dataset == \"animal\":\n",
    "    CLASSES = [\"Bear\", \"Chicken\", \"Turtle\"]\n",
    "\n",
    "assert CLASSES\n",
    "\n",
    "CLASS_NUMBER = len(CLASSES)\n",
    "\n",
    "# Ensure that all the labels are strings\n",
    "CLASSES =[str(item) for item in CLASSES]\n",
    "\n",
    "CLASS_DICTIONARY = {}\n",
    "for idx, clas in enumerate(CLASSES):\n",
    "    CLASS_DICTIONARY[clas] = idx"
   ],
   "metadata": {
    "collapsed": false,
    "pycharm": {
     "name": "#%%\n"
    }
   }
  },
  {
   "cell_type": "markdown",
   "source": [
    "#### DataSets\n",
    "- *DATASETS_ROOT_FOLDER*: Folder where the dataset is\n",
    "- *CSV_FOLDER*: Folder with the CSVs\n",
    "    - *TRAIN_CSV* : Train csv name\n",
    "    - *TEST_CSV* : Test csv name\n",
    "    - *VALIDATION_CSV* : Validation csv name"
   ],
   "metadata": {
    "collapsed": false,
    "pycharm": {
     "name": "#%% md\n"
    }
   }
  },
  {
   "cell_type": "code",
   "execution_count": 4,
   "outputs": [],
   "source": [
    "########################################\n",
    "# Image Dataset\n",
    "\n",
    "# Path to root image folders\n",
    "DATASETS_ROOT_FOLDER = \"../../datasets/\"\n",
    "\n",
    "if dataset == \"mnist\":\n",
    "    DATASET_FOLDER = \"mnist/\"\n",
    "elif dataset == \"animal\":\n",
    "    DATASET_FOLDER = \"data/\"\n",
    "\n",
    "assert DATASET_FOLDER\n",
    "\n",
    "# DATASETS_ROOT_FOLDER = os.path.abspath(DATASETS_ROOT_FOLDER) + os.sep\n",
    "\n",
    "########################################\n",
    "# CSV dataset\n",
    "\n",
    "# Path to csv-dataset files\n",
    "CSV_FOLDER = \"../../csv/\"\n",
    "#CSV_FOLDER = os.path.abspath(CSV_FOLDER) + os.sep\n",
    "\n",
    "# CSV-DATASET FILE NAMES\n",
    "\n",
    "if dataset == \"mnist\":\n",
    "    TRAIN_CSV = \"mnist_train.csv\"\n",
    "    TEST_CSV = \"mnist_test.csv\"\n",
    "    VALIDATION_CSV = \"mnist_val.csv\"\n",
    "elif dataset == \"animal\":\n",
    "    TRAIN_CSV = \"data_train.csv\"\n",
    "    TEST_CSV = \"data_test.csv\"\n",
    "    VALIDATION_CSV = \"data_val.csv\"\n",
    "\n",
    "assert TRAIN_CSV, TEST_CSV and VALIDATION_CSV\n"
   ],
   "metadata": {
    "collapsed": false,
    "pycharm": {
     "name": "#%%\n"
    }
   }
  },
  {
   "cell_type": "markdown",
   "source": [
    "#### Model\n",
    "- *MODEL_PATH*: Path to find the saved models\n",
    "- *MODEL_SAVE_FOLDER*: Path to save the models\n"
   ],
   "metadata": {
    "collapsed": false,
    "pycharm": {
     "name": "#%% md\n"
    }
   }
  },
  {
   "cell_type": "code",
   "execution_count": 5,
   "outputs": [],
   "source": [
    "########################################\n",
    "# Model and weights defined together\n",
    "\n",
    "# Path to the model+weights of the model\n",
    "MODEL_PATH = \"../../models/v6\"\n",
    "\n",
    "########################################\n",
    "# Path to folder where to save the model\n",
    "\n",
    "MODEL_SAVE_FOLDER = \"../../models/v6/\"\n",
    "MODEL_SAVE_FOLDER = os.path.abspath(MODEL_SAVE_FOLDER) + os.sep"
   ],
   "metadata": {
    "collapsed": false,
    "pycharm": {
     "name": "#%%\n"
    }
   }
  },
  {
   "cell_type": "markdown",
   "source": [
    "#### Train\n",
    "Training Parameters"
   ],
   "metadata": {
    "collapsed": false,
    "pycharm": {
     "name": "#%% md\n"
    }
   }
  },
  {
   "cell_type": "code",
   "execution_count": 6,
   "outputs": [],
   "source": [
    "SHUFFLE = True\n",
    "\n",
    "BATCH_NUMBER = 64\n",
    "\n",
    "# The number of epochs is repeated during the training_loops_Dataset_renewal\n",
    "TRAINING_LOOPS_DATASETS_RENEWAL = 3     # Period of dataset renewal\n",
    "EPOCHS = 10                              # Total / Max number of epochs that are going to be runned\n",
    "# So training for 9 epochs, and every 3 epochs dataset will be renewed (3 different datasets)\n",
    "\n",
    "FROM_LOGITS = True\n",
    "MODEL_PATH = MODEL_PATH\n",
    "MODEL_NAME = \"test_model\"\n",
    "\n",
    "LOSS = tf.keras.losses.SparseCategoricalCrossentropy(from_logits=FROM_LOGITS)\n",
    "\n",
    "METRICS = [accuracy_score, recall_score, precision_score, f1_score]\n",
    "\n",
    "PATIENCE_EARLY_STOPPING = 5\n",
    "\n",
    "###################################################\n",
    "# Size/shape of images (when resized)\n",
    "\n",
    "if dataset == \"mnist\":\n",
    "    IMG_WIDTH = 28\n",
    "    IMG_HEIGHT = 28\n",
    "    N_CHANNELS = 1\n",
    "    COLOR_MODE = \"grayscale\"\n",
    "elif dataset == \"animal\":\n",
    "    IMG_WIDTH = 128\n",
    "    IMG_HEIGHT = 128\n",
    "    N_CHANNELS = 3\n",
    "    COLOR_MODE = \"rgb\"\n",
    "\n",
    "assert IMG_HEIGHT, IMG_WIDTH and N_CHANNELS\n",
    "\n",
    "#################################################################################\n",
    "# Lists\n",
    "\n",
    "IMG_EXTENSIONS = ['jpg', 'JPG', 'png', 'PNG']"
   ],
   "metadata": {
    "collapsed": false,
    "pycharm": {
     "name": "#%%\n"
    }
   }
  },
  {
   "cell_type": "markdown",
   "source": [],
   "metadata": {
    "collapsed": false,
    "pycharm": {
     "name": "#%% md\n"
    }
   }
  },
  {
   "cell_type": "markdown",
   "source": [],
   "metadata": {
    "collapsed": false,
    "pycharm": {
     "name": "#%% md\n"
    }
   }
  },
  {
   "cell_type": "markdown",
   "source": [],
   "metadata": {
    "collapsed": false,
    "pycharm": {
     "name": "#%% md\n"
    }
   }
  },
  {
   "cell_type": "markdown",
   "source": [],
   "metadata": {
    "collapsed": false,
    "pycharm": {
     "name": "#%% md\n"
    }
   }
  },
  {
   "cell_type": "markdown",
   "source": [],
   "metadata": {
    "collapsed": false,
    "pycharm": {
     "name": "#%% md\n"
    }
   }
  },
  {
   "cell_type": "markdown",
   "source": [],
   "metadata": {
    "collapsed": false,
    "pycharm": {
     "name": "#%% md\n"
    }
   }
  },
  {
   "cell_type": "markdown",
   "source": [],
   "metadata": {
    "collapsed": false,
    "pycharm": {
     "name": "#%% md\n"
    }
   }
  },
  {
   "cell_type": "markdown",
   "source": [],
   "metadata": {
    "collapsed": false,
    "pycharm": {
     "name": "#%% md\n"
    }
   }
  },
  {
   "cell_type": "markdown",
   "source": [],
   "metadata": {
    "collapsed": false,
    "pycharm": {
     "name": "#%% md\n"
    }
   }
  },
  {
   "cell_type": "markdown",
   "source": [
    "# ======== Code ========"
   ],
   "metadata": {
    "collapsed": false,
    "pycharm": {
     "name": "#%% md\n"
    }
   }
  },
  {
   "cell_type": "markdown",
   "source": [
    "## Helper - functions ;)\n",
    "\n",
    "Help functions from the repository https://raw.githubusercontent.com/mrdbourke/tensorflow-deep-learning/main/extras/helper_functions.py\n",
    "\n",
    "that are very helpful for machine learning"
   ],
   "metadata": {
    "collapsed": false,
    "pycharm": {
     "name": "#%% md\n"
    }
   }
  },
  {
   "cell_type": "code",
   "execution_count": 7,
   "outputs": [],
   "source": [
    "# !wget https://raw.githubusercontent.com/mrdbourke/tensorflow-deep-learning/main/extras/helper_functions.py\n",
    "\n",
    "# Import series of helper functions for our notebook\n",
    "# from helper_functions import create_tensorboard_callback, plot_loss_curves, unzip_data, compare_historys, walk_through_dir, pred_and_plot\n",
    "\n",
    "### We create a bunch of helpful functions throughout the course.\n",
    "### Storing them here so they're easily accessible.\n",
    "\n",
    "# Create a function to import an image and resize it to be able to be used with our model\n",
    "def load_and_prep_image(filename, img_shape=IMG_WIDTH, scale=True):\n",
    "    \"\"\"\n",
    "    Reads in an image from filename, turns it into a tensor and reshapes into\n",
    "    (224, 224, 3).\n",
    "\n",
    "    Parameters\n",
    "    ----------\n",
    "    filename (str): string filename of target image\n",
    "    img_shape (int): size to resize target image to, default 224\n",
    "    scale (bool): whether to scale pixel values to range(0, 1), default True\n",
    "    \"\"\"\n",
    "    # Read in the image\n",
    "    img = tf.io.read_file(filename)\n",
    "    # Decode it into a tensor\n",
    "    img = tf.image.decode_jpeg(img)\n",
    "    # Resize the image\n",
    "    img = tf.image.resize(img, [img_shape, img_shape])\n",
    "    if scale:\n",
    "        # Rescale the image (get all values between 0 and 1)\n",
    "        return img / 255.\n",
    "    else:\n",
    "        return img\n",
    "\n",
    "\n",
    "# Note: The following confusion matrix code is a remix of Scikit-Learn's\n",
    "# plot_confusion_matrix function - https://scikit-learn.org/stable/modules/generated/sklearn.metrics.plot_confusion_matrix.html\n",
    "\n",
    "# Our function needs a different name to sklearn's plot_confusion_matrix\n",
    "def make_confusion_matrix(y_true, y_pred, classes=None, figsize=(10, 10), text_size=15, norm=False, savefig=False):\n",
    "    \"\"\"Makes a labelled confusion matrix comparing predictions and ground truth labels.\n",
    "\n",
    "    If classes is passed, confusion matrix will be labelled, if not, integer class values\n",
    "    will be used.\n",
    "\n",
    "    Args:\n",
    "      y_true: Array of truth labels (must be same shape as y_pred).\n",
    "      y_pred: Array of predicted labels (must be same shape as y_true).\n",
    "      classes: Array of class labels (e.g. string form). If `None`, integer labels are used.\n",
    "      figsize: Size of output figure (default=(10, 10)).\n",
    "      text_size: Size of output figure text (default=15).\n",
    "      norm: normalize values or not (default=False).\n",
    "      savefig: save confusion matrix to file (default=False).\n",
    "\n",
    "    Returns:\n",
    "      A labelled confusion matrix plot comparing y_true and y_pred.\n",
    "\n",
    "    Example usage:\n",
    "      make_confusion_matrix(y_true=test_labels, # ground truth test labels\n",
    "                            y_pred=y_preds, # predicted labels\n",
    "                            classes=class_names, # array of class label names\n",
    "                            figsize=(15, 15),\n",
    "                            text_size=10)\n",
    "    \"\"\"\n",
    "    # Create the confustion matrix\n",
    "    cm = confusion_matrix(y_true, y_pred)\n",
    "    cm_norm = cm.astype(\"float\") / cm.sum(axis=1)[:, np.newaxis]  # normalize it\n",
    "    n_classes = cm.shape[0]  # find the number of classes we're dealing with\n",
    "\n",
    "    # Plot the figure and make it pretty\n",
    "    fig, ax = plt.subplots(figsize=figsize)\n",
    "    cax = ax.matshow(cm, cmap=plt.cm.Blues)  # colors will represent how 'correct' a class is, darker == better\n",
    "    fig.colorbar(cax)\n",
    "\n",
    "    # Are there a list of classes?\n",
    "    if classes:\n",
    "        labels = classes\n",
    "    else:\n",
    "        labels = np.arange(cm.shape[0])\n",
    "\n",
    "    # Label the axes\n",
    "    ax.set(title=\"Confusion Matrix\",\n",
    "           xlabel=\"Predicted label\",\n",
    "           ylabel=\"True label\",\n",
    "           xticks=np.arange(n_classes),  # create enough axis slots for each class\n",
    "           yticks=np.arange(n_classes),\n",
    "           xticklabels=labels,  # axes will labeled with class names (if they exist) or ints\n",
    "           yticklabels=labels)\n",
    "\n",
    "    # Make x-axis labels appear on bottom\n",
    "    ax.xaxis.set_label_position(\"bottom\")\n",
    "    ax.xaxis.tick_bottom()\n",
    "\n",
    "    # Set the threshold for different colors\n",
    "    threshold = (cm.max() + cm.min()) / 2.\n",
    "\n",
    "    # Plot the text on each cell\n",
    "    for i, j in itertools.product(range(cm.shape[0]), range(cm.shape[1])):\n",
    "        if norm:\n",
    "            plt.text(j, i, f\"{cm[i, j]} ({cm_norm[i, j] * 100:.1f}%)\",\n",
    "                     horizontalalignment=\"center\",\n",
    "                     color=\"white\" if cm[i, j] > threshold else \"black\",\n",
    "                     size=text_size)\n",
    "        else:\n",
    "            plt.text(j, i, f\"{cm[i, j]}\",\n",
    "                     horizontalalignment=\"center\",\n",
    "                     color=\"white\" if cm[i, j] > threshold else \"black\",\n",
    "                     size=text_size)\n",
    "\n",
    "    # Save the figure to the current working directory\n",
    "    if savefig:\n",
    "        fig.savefig(\"confusion_matrix.png\")\n",
    "\n",
    "\n",
    "# Make a function to predict on images and plot them (works with multi-class)\n",
    "def pred_and_plot(model, filename, class_names):\n",
    "    \"\"\"\n",
    "    Imports an image located at filename, makes a prediction on it with\n",
    "    a trained model and plots the image with the predicted class as the title.\n",
    "    \"\"\"\n",
    "    # Import the target image and preprocess it\n",
    "    img = load_and_prep_image(filename)\n",
    "\n",
    "    # Make a prediction\n",
    "    pred = model.predict(tf.expand_dims(img, axis=0))\n",
    "\n",
    "    # Get the predicted class\n",
    "    if len(pred[0]) > 1:  # check for multi-class\n",
    "        pred_class = class_names[pred.argmax()]  # if more than one output, take the max\n",
    "    else:\n",
    "        pred_class = class_names[int(tf.round(pred)[0][0])]  # if only one output, round\n",
    "\n",
    "    # Plot the image and predicted class\n",
    "    plt.imshow(img)\n",
    "    plt.title(f\"Prediction: {pred_class}\")\n",
    "    plt.axis(False);\n",
    "\n",
    "\n",
    "def create_tensorboard_callback(dir_name, experiment_name):\n",
    "    \"\"\"\n",
    "    Creates a TensorBoard callback instand to store log files.\n",
    "\n",
    "    Stores log files with the filepath:\n",
    "      \"dir_name/experiment_name/current_datetime/\"\n",
    "\n",
    "    Args:\n",
    "      dir_name: target directory to store TensorBoard log files\n",
    "      experiment_name: name of experiment directory (e.g. efficientnet_model_1)\n",
    "    \"\"\"\n",
    "    log_dir = dir_name + \"/\" + experiment_name + \"/\" + datetime.datetime.now().strftime(\"%Y%m%d-%H%M%S\")\n",
    "    tensorboard_callback = tf.keras.callbacks.TensorBoard(\n",
    "        log_dir=log_dir\n",
    "    )\n",
    "    print(f\"Saving TensorBoard log files to: {log_dir}\")\n",
    "    return tensorboard_callback\n",
    "\n",
    "\n",
    "# Plot the validation and training data separately\n",
    "def plot_loss_curves(history):\n",
    "    \"\"\"\n",
    "    Returns separate loss curves for training and validation metrics.\n",
    "\n",
    "    Args:\n",
    "      history: TensorFlow model History object (see: https://www.tensorflow.org/api_docs/python/tf/keras/callbacks/History)\n",
    "    \"\"\"\n",
    "    loss = history.history['loss']\n",
    "    val_loss = history.history['val_loss']\n",
    "\n",
    "    accuracy = history.history['accuracy']\n",
    "    val_accuracy = history.history['val_accuracy']\n",
    "\n",
    "    epochs = range(len(history.history['loss']))\n",
    "\n",
    "    # Plot loss\n",
    "    plt.plot(epochs, loss, label='training_loss')\n",
    "    plt.plot(epochs, val_loss, label='val_loss')\n",
    "    plt.title('Loss')\n",
    "    plt.xlabel('Epochs')\n",
    "    plt.legend()\n",
    "\n",
    "    # Plot accuracy\n",
    "    plt.figure()\n",
    "    plt.plot(epochs, accuracy, label='training_accuracy')\n",
    "    plt.plot(epochs, val_accuracy, label='val_accuracy')\n",
    "    plt.title('Accuracy')\n",
    "    plt.xlabel('Epochs')\n",
    "    plt.legend();\n",
    "\n",
    "\n",
    "def compare_historys(original_history, new_history, initial_epochs=5):\n",
    "    \"\"\"\n",
    "    Compares two TensorFlow model History objects.\n",
    "\n",
    "    Args:\n",
    "      original_history: History object from original model (before new_history)\n",
    "      new_history: History object from continued model training (after original_history)\n",
    "      initial_epochs: Number of epochs in original_history (new_history plot starts from here)\n",
    "    \"\"\"\n",
    "\n",
    "    # Get original history measurements\n",
    "    acc = original_history.history[\"accuracy\"]\n",
    "    loss = original_history.history[\"loss\"]\n",
    "\n",
    "    val_acc = original_history.history[\"val_accuracy\"]\n",
    "    val_loss = original_history.history[\"val_loss\"]\n",
    "\n",
    "    # Combine original history with new history\n",
    "    total_acc = acc + new_history.history[\"accuracy\"]\n",
    "    total_loss = loss + new_history.history[\"loss\"]\n",
    "\n",
    "    total_val_acc = val_acc + new_history.history[\"val_accuracy\"]\n",
    "    total_val_loss = val_loss + new_history.history[\"val_loss\"]\n",
    "\n",
    "    # Make plots\n",
    "    plt.figure(figsize=(8, 8))\n",
    "    plt.subplot(2, 1, 1)\n",
    "    plt.plot(total_acc, label='Training Accuracy')\n",
    "    plt.plot(total_val_acc, label='Validation Accuracy')\n",
    "    plt.plot([initial_epochs - 1, initial_epochs - 1],\n",
    "             plt.ylim(), label='Start Fine Tuning')  # reshift plot around epochs\n",
    "    plt.legend(loc='lower right')\n",
    "    plt.title('Training and Validation Accuracy')\n",
    "\n",
    "    plt.subplot(2, 1, 2)\n",
    "    plt.plot(total_loss, label='Training Loss')\n",
    "    plt.plot(total_val_loss, label='Validation Loss')\n",
    "    plt.plot([initial_epochs - 1, initial_epochs - 1],\n",
    "             plt.ylim(), label='Start Fine Tuning')  # reshift plot around epochs\n",
    "    plt.legend(loc='upper right')\n",
    "    plt.title('Training and Validation Loss')\n",
    "    plt.xlabel('epoch')\n",
    "    plt.show()\n",
    "\n",
    "\n",
    "# Create function to unzip a zipfile into current working directory\n",
    "# (since we're going to be downloading and unzipping a few files)\n",
    "\n",
    "def unzip_data(filename):\n",
    "    \"\"\"\n",
    "    Unzips filename into the current working directory.\n",
    "\n",
    "    Args:\n",
    "      filename (str): a filepath to a target zip folder to be unzipped.\n",
    "    \"\"\"\n",
    "    zip_ref = zipfile.ZipFile(filename, \"r\")\n",
    "    zip_ref.extractall()\n",
    "    zip_ref.close()\n",
    "\n",
    "\n",
    "# Walk through an image classification directory and find out how many files (images)\n",
    "# are in each subdirectory.\n",
    "\n",
    "\n",
    "def walk_through_dir(dir_path):\n",
    "    \"\"\"\n",
    "    Walks through dir_path returning its contents.\n",
    "\n",
    "    Args:\n",
    "      dir_path (str): target directory\n",
    "\n",
    "    Returns:\n",
    "      A print out of:\n",
    "        number of subdiretories in dir_path\n",
    "        number of images (files) in each subdirectory\n",
    "        name of each subdirectory\n",
    "    \"\"\"\n",
    "    for dirpath, dirnames, filenames in os.walk(dir_path):\n",
    "        print(f\"There are {len(dirnames)} directories and {len(filenames)} images in '{dirpath}'.\")\n",
    "\n",
    "\n",
    "# Function to evaluate: accuracy, precision, recall, f1-score\n",
    "def calculate_results(y_true, y_pred):\n",
    "    \"\"\"\n",
    "    Calculates model accuracy, precision, recall and f1 score of a binary classification model.\n",
    "\n",
    "    Args:\n",
    "        y_true: true labels in the form of a 1D array\n",
    "        y_pred: predicted labels in the form of a 1D array\n",
    "\n",
    "    Returns a dictionary of accuracy, precision, recall, f1-score.\n",
    "    \"\"\"\n",
    "    # Calculate model accuracy\n",
    "    model_accuracy = accuracy_score(y_true, y_pred) * 100\n",
    "    # Calculate model precision, recall and f1 score using \"weighted average\n",
    "    model_precision, model_recall, model_f1, _ = precision_recall_fscore_support(y_true, y_pred, average=\"weighted\")\n",
    "    model_results = {\"accuracy\": model_accuracy,\n",
    "                     \"precision\": model_precision,\n",
    "                     \"recall\": model_recall,\n",
    "                     \"f1\": model_f1}\n",
    "    return model_results"
   ],
   "metadata": {
    "collapsed": false,
    "pycharm": {
     "name": "#%%\n"
    }
   }
  },
  {
   "cell_type": "markdown",
   "source": [],
   "metadata": {
    "collapsed": false,
    "pycharm": {
     "name": "#%% md\n"
    }
   }
  },
  {
   "cell_type": "markdown",
   "source": [
    "## Data\n",
    "\n",
    "Loading, transformation and preprocessing"
   ],
   "metadata": {
    "collapsed": false,
    "pycharm": {
     "name": "#%% md\n"
    }
   }
  },
  {
   "cell_type": "markdown",
   "source": [
    "### Load and transform Data"
   ],
   "metadata": {
    "collapsed": false,
    "pycharm": {
     "name": "#%% md\n"
    }
   }
  },
  {
   "cell_type": "code",
   "execution_count": 8,
   "outputs": [
    {
     "name": "stdout",
     "output_type": "stream",
     "text": [
      "There are 10 directories and 0 images in '../../datasets/mnist/'.\n",
      "There are 0 directories and 4132 images in '../../datasets/mnist/0'.\n",
      "There are 0 directories and 4684 images in '../../datasets/mnist/1'.\n",
      "There are 0 directories and 4177 images in '../../datasets/mnist/2'.\n",
      "There are 0 directories and 4351 images in '../../datasets/mnist/3'.\n",
      "There are 0 directories and 4072 images in '../../datasets/mnist/4'.\n",
      "There are 0 directories and 3795 images in '../../datasets/mnist/5'.\n",
      "There are 0 directories and 4137 images in '../../datasets/mnist/6'.\n",
      "There are 0 directories and 4401 images in '../../datasets/mnist/7'.\n",
      "There are 0 directories and 4063 images in '../../datasets/mnist/8'.\n",
      "There are 0 directories and 4188 images in '../../datasets/mnist/9'.\n"
     ]
    }
   ],
   "source": [
    "# Walk through each directory to count the number of instances per class\n",
    "dataset = DATASETS_ROOT_FOLDER + DATASET_FOLDER\n",
    "walk_through_dir(dataset);"
   ],
   "metadata": {
    "collapsed": false,
    "pycharm": {
     "name": "#%%\n"
    }
   }
  },
  {
   "cell_type": "markdown",
   "metadata": {
    "pycharm": {
     "name": "#%% md\n"
    }
   },
   "source": [
    "### Placing data into a Dataframe\n",
    "The first column filepaths contains the file path location of each individual images. The second column labels, on the other hand, contains the class label of the corresponding image from the file path"
   ]
  },
  {
   "cell_type": "markdown",
   "source": [
    "##### Auxiliar Functions"
   ],
   "metadata": {
    "collapsed": false,
    "pycharm": {
     "name": "#%% md\n"
    }
   }
  },
  {
   "cell_type": "code",
   "execution_count": 9,
   "outputs": [],
   "source": [
    "# get_min(dataframe)\n",
    "# given a dataframe returns the value of instances of the class with fewer\n",
    "# instances (minimum class)\n",
    "def get_min(dataframe):\n",
    "\n",
    "    min_class = list(dataframe['label'].value_counts())[-1]\n",
    "\n",
    "    return min_class\n",
    "\n",
    "\n",
    "# create_pd_dataframe(data_csv, csv_folder = CSV_FOLDER)\n",
    "# given the name of the csv and the folder where it is located, create a pandas dataframe with its content\n",
    "# and modify the class from string to number with the class dictionary in constants\n",
    "def create_pd_dataframes(data_csv, csv_folder = CSV_FOLDER):\n",
    "    data_panda = pd.read_csv(os.path.join(csv_folder, data_csv))\n",
    "\n",
    "    # Añadir el path absoluto (la parte desde C:// ... hasta animals al inicio para poder acceder\n",
    "    data_panda[\"path\"] = [DATASETS_ROOT_FOLDER + item for item in data_panda[\"path\"]]\n",
    "\n",
    "    data_panda[\"label\"] = [CLASS_DICTIONARY[str(item)] for item in data_panda[\"label\"]]\n",
    "\n",
    "    return data_panda\n",
    "\n",
    "\n",
    "# balance_df_classes(dataframe, mini = 0)\n",
    "# given a (pandas) dataframe and the minimum name of instances we want per classs, it create a balaced dataframe\n",
    "def balance_df_classes(dataframe, mini = 0):\n",
    "    new_dataframe = pd.DataFrame([])\n",
    "\n",
    "    min_class = get_min(dataframe)\n",
    "\n",
    "    # To add a minimum number of images per class in the case of entering it by parameters\n",
    "    if mini > min_class:\n",
    "        min_class = mini\n",
    "\n",
    "    # for each class take the min number of imgs that must be taken to create the dataframe\n",
    "    for clas in list(np.unique(dataframe['label'])):\n",
    "        current_dataframe = (dataframe[dataframe['label'] == clas])\n",
    "\n",
    "        aux = current_dataframe.sample(n = min_class, replace = True)\n",
    "\n",
    "        # y lo concatena con el que ya teniamos\n",
    "        new_dataframe = pd.concat([new_dataframe,aux])\n",
    "\n",
    "    return new_dataframe\n",
    "\n",
    "# create_balanced_dataframes(data_csv, csv_folder = CSV_FOLDER, mini = 0)\n",
    "# calls the functions that create the dataframes and balance them\n",
    "def create_balanced_dataframes(data_csv, csv_folder = CSV_FOLDER, mini = 0):\n",
    "\n",
    "    pandas_dataframe = create_pd_dataframes(data_csv, csv_folder)\n",
    "    pandas_dataframe_balanced = balance_df_classes(pandas_dataframe, mini)\n",
    "\n",
    "    return pandas_dataframe_balanced\n",
    "\n",
    "\n",
    "# create_tf_ds(dataframe)\n",
    "# from a dataframe, it creates a tensorflow dataset\n",
    "def create_tf_ds(dataframe):\n",
    "\n",
    "    num_instances = int(np.floor(len(dataframe) / BATCH_NUMBER))\n",
    "\n",
    "    datagen = tf.keras.preprocessing.image.ImageDataGenerator(\n",
    "                                  rescale=1./255.,\n",
    "                                  )\n",
    "\n",
    "\n",
    "    # TODO funciones especificas -> data image generator para el data augmentation -> buscar en internet cualquier metodo para hacerlo, copiar todo desde esta celda hacia arriba para el notebook de data augmentation. Progrmaar \"todas\" y coger las más relevantes al final (giro, intensidad, etc). Pero tener todas hechas y dejar comentadas las que no queramos usar.\n",
    "\n",
    "    tf_dataset = datagen.flow_from_dataframe(\n",
    "                            dataframe,\n",
    "                            x_col = 'path',\n",
    "                            y_col = 'label',\n",
    "                            target_size = (IMG_WIDTH,IMG_HEIGHT),\n",
    "                            color_mode = 'rgb', # rgb\n",
    "                            batch_size = BATCH_NUMBER,\n",
    "                            shuffle = SHUFFLE,\n",
    "                            interpolation = \"bicubic\",  # to descrease, increase\n",
    "                            class_mode='raw' # categorical -> str , raw = numbers\n",
    "                            )\n",
    "\n",
    "    return num_instances, tf_dataset\n",
    "\n",
    "def create_tensorflow_dataset(pandas_dataframe):\n",
    "\n",
    "    datagen = tf.keras.preprocessing.image.ImageDataGenerator(\n",
    "                                  rescale=1./255.,\n",
    "                                  )\n",
    "\n",
    "    tf_dataset = datagen.flow_from_dataframe(\n",
    "                            pandas_dataframe,\n",
    "                            x_col = 'path',\n",
    "                            y_col = 'label',\n",
    "                            target_size = (IMG_WIDTH,IMG_HEIGHT),\n",
    "                            color_mode = COLOR_MODE,\n",
    "                            batch_size = BATCH_NUMBER,\n",
    "                            shuffle = SHUFFLE,\n",
    "                            interpolation = \"bicubic\",  # to descrease, increase\n",
    "                            class_mode='raw' # categorical -> str , raw = numbers\n",
    "                            )\n",
    "\n",
    "    return tf_dataset\n",
    "\n",
    "ROTATION = 20\n",
    "\n",
    "ZOOM_RANGE = 0.1\n",
    "HORIZONTAL_FLIP = True\n",
    "VERTICAL_FLIP = False\n",
    "\n",
    "\n",
    "def create_augmented_tensorflow_dataset(pandas_dataframe):\n",
    "    datagen = tf.keras.preprocessing.image.ImageDataGenerator(\n",
    "                                  rescale=1./255.,\n",
    "                                  rotation_range = ROTATION,\n",
    "                                  zoom_range = ZOOM_RANGE,\n",
    "                                  horizontal_flip = HORIZONTAL_FLIP,\n",
    "                                  vertical_flip = VERTICAL_FLIP,\n",
    "                                  fill_mode = 'nearest'\n",
    "                                  )\n",
    "\n",
    "    tf_dataset = datagen.flow_from_dataframe(\n",
    "                            pandas_dataframe,\n",
    "                            x_col = 'path',\n",
    "                            y_col = 'label',\n",
    "                            target_size = (IMG_WIDTH,IMG_HEIGHT),\n",
    "                            color_mode = COLOR_MODE,\n",
    "                            batch_size = BATCH_NUMBER,\n",
    "                            shuffle = SHUFFLE,\n",
    "                            interpolation = \"bicubic\",  # to descrease, increase\n",
    "                            class_mode='raw' # categorical -> str , raw = numbers\n",
    "                            )\n",
    "\n",
    "    return tf_dataset"
   ],
   "metadata": {
    "collapsed": false,
    "pycharm": {
     "name": "#%%\n"
    }
   }
  },
  {
   "cell_type": "code",
   "execution_count": 10,
   "outputs": [
    {
     "name": "stdout",
     "output_type": "stream",
     "text": [
      "Found 33590 validated image filenames.\n",
      "Found 6305 validated image filenames.\n"
     ]
    }
   ],
   "source": [
    "# pandas dataframe\n",
    "train_pd = create_pd_dataframes(TRAIN_CSV, CSV_FOLDER)\n",
    "val_pd = create_pd_dataframes(VALIDATION_CSV, CSV_FOLDER)\n",
    "\n",
    "# to create the balanced dataframes:\n",
    "train_df = create_balanced_dataframes(TRAIN_CSV, CSV_FOLDER)\n",
    "val_df = create_balanced_dataframes(VALIDATION_CSV, CSV_FOLDER, mini = 30)\n",
    "\n",
    "# to create the dataframes with as many imgs as there are in the directory, without making the balances\n",
    "'''train_df = create_pd_dataframes(TRAIN_CSV, CSV_FOLDER)\n",
    "val_df = create_pd_dataframes(VALIDATION_CSV, CSV_FOLDER)'''\n",
    "\n",
    "# Tensorflow dataframe generation\n",
    "#train_num_instances, train_tf_dataset = create_tf_ds(train_df)\n",
    "#val_num_instances, validation_tf_dataset = create_tf_ds(val_df)\n",
    "train_augmented_tf_ds = create_augmented_tensorflow_dataset(train_pd)\n",
    "val_augmented_tf_ds = create_augmented_tensorflow_dataset(val_pd)"
   ],
   "metadata": {
    "collapsed": false,
    "pycharm": {
     "name": "#%%\n"
    }
   }
  },
  {
   "cell_type": "code",
   "execution_count": 11,
   "outputs": [
    {
     "data": {
      "text/plain": "                                       path  label\n1893   ../../datasets/mnist/0/img_15293.jpg      0\n1140   ../../datasets/mnist/0/img_37345.jpg      0\n1467   ../../datasets/mnist/0/img_27234.jpg      0\n1503   ../../datasets/mnist/0/img_38170.jpg      0\n2242   ../../datasets/mnist/0/img_34893.jpg      0\n...                                     ...    ...\n32430   ../../datasets/mnist/9/img_6539.jpg      9\n31622  ../../datasets/mnist/9/img_14849.jpg      9\n31230  ../../datasets/mnist/9/img_41246.jpg      9\n31185  ../../datasets/mnist/9/img_39619.jpg      9\n31031  ../../datasets/mnist/9/img_37968.jpg      9\n\n[30350 rows x 2 columns]",
      "text/html": "<div>\n<style scoped>\n    .dataframe tbody tr th:only-of-type {\n        vertical-align: middle;\n    }\n\n    .dataframe tbody tr th {\n        vertical-align: top;\n    }\n\n    .dataframe thead th {\n        text-align: right;\n    }\n</style>\n<table border=\"1\" class=\"dataframe\">\n  <thead>\n    <tr style=\"text-align: right;\">\n      <th></th>\n      <th>path</th>\n      <th>label</th>\n    </tr>\n  </thead>\n  <tbody>\n    <tr>\n      <th>1893</th>\n      <td>../../datasets/mnist/0/img_15293.jpg</td>\n      <td>0</td>\n    </tr>\n    <tr>\n      <th>1140</th>\n      <td>../../datasets/mnist/0/img_37345.jpg</td>\n      <td>0</td>\n    </tr>\n    <tr>\n      <th>1467</th>\n      <td>../../datasets/mnist/0/img_27234.jpg</td>\n      <td>0</td>\n    </tr>\n    <tr>\n      <th>1503</th>\n      <td>../../datasets/mnist/0/img_38170.jpg</td>\n      <td>0</td>\n    </tr>\n    <tr>\n      <th>2242</th>\n      <td>../../datasets/mnist/0/img_34893.jpg</td>\n      <td>0</td>\n    </tr>\n    <tr>\n      <th>...</th>\n      <td>...</td>\n      <td>...</td>\n    </tr>\n    <tr>\n      <th>32430</th>\n      <td>../../datasets/mnist/9/img_6539.jpg</td>\n      <td>9</td>\n    </tr>\n    <tr>\n      <th>31622</th>\n      <td>../../datasets/mnist/9/img_14849.jpg</td>\n      <td>9</td>\n    </tr>\n    <tr>\n      <th>31230</th>\n      <td>../../datasets/mnist/9/img_41246.jpg</td>\n      <td>9</td>\n    </tr>\n    <tr>\n      <th>31185</th>\n      <td>../../datasets/mnist/9/img_39619.jpg</td>\n      <td>9</td>\n    </tr>\n    <tr>\n      <th>31031</th>\n      <td>../../datasets/mnist/9/img_37968.jpg</td>\n      <td>9</td>\n    </tr>\n  </tbody>\n</table>\n<p>30350 rows × 2 columns</p>\n</div>"
     },
     "execution_count": 11,
     "metadata": {},
     "output_type": "execute_result"
    }
   ],
   "source": [
    "train_df"
   ],
   "metadata": {
    "collapsed": false,
    "pycharm": {
     "name": "#%%\n"
    }
   }
  },
  {
   "cell_type": "markdown",
   "source": [
    "## Visualizing images from the dataset"
   ],
   "metadata": {
    "collapsed": false,
    "pycharm": {
     "name": "#%% md\n"
    }
   }
  },
  {
   "cell_type": "code",
   "execution_count": 12,
   "outputs": [],
   "source": [
    "\n",
    "\n",
    "def view_random_image(target_dir, target_class):\n",
    "  # setting up the image directory\n",
    "  target_folder = target_dir + target_class\n",
    "\n",
    "  #get a random image path\n",
    "  random_image = random.sample(os.listdir(target_folder), 1)\n",
    "\n",
    "  #read image and plotting it\n",
    "  img = mpimg.imread(target_folder + \"/\" + random_image[0] )\n",
    "  plt.imshow(img)\n",
    "  plt.title(target_class)\n",
    "  plt.axis(\"off\")\n",
    "\n",
    "  print(f\"Image shape: {img.shape}\")\n",
    "\n",
    "  return img"
   ],
   "metadata": {
    "collapsed": false,
    "pycharm": {
     "name": "#%%\n"
    }
   }
  },
  {
   "cell_type": "code",
   "execution_count": 13,
   "outputs": [
    {
     "name": "stdout",
     "output_type": "stream",
     "text": [
      "Image shape: (28, 28)\n",
      "Image shape: (28, 28)\n",
      "Image shape: (28, 28)\n",
      "Image shape: (28, 28)\n"
     ]
    },
    {
     "data": {
      "text/plain": "<Figure size 1000x200 with 4 Axes>",
      "image/png": "[encoded data removed]"
     },
     "metadata": {},
     "output_type": "display_data"
    }
   ],
   "source": [
    "n_samples = 4\n",
    "randoms = np.random.randint(0, len(CLASSES), n_samples)\n",
    "randoms_classes = []\n",
    "\n",
    "for i, idx in enumerate(randoms):\n",
    "    randoms_classes.append(CLASSES[idx])\n",
    "\n",
    "plt.figure(figsize = (10,2))\n",
    "\n",
    "# Display 4 picture of the dataset with their labels\n",
    "for cont, i in enumerate(randoms_classes):\n",
    "    plt.subplot(1,4,cont+1)\n",
    "    img = view_random_image(target_dir = DATASETS_ROOT_FOLDER + DATASET_FOLDER,\n",
    "                            target_class = str(i))\n"
   ],
   "metadata": {
    "collapsed": false,
    "pycharm": {
     "name": "#%%\n"
    }
   }
  },
  {
   "cell_type": "markdown",
   "source": [
    "## Data Preprocessing"
   ],
   "metadata": {
    "collapsed": false,
    "pycharm": {
     "name": "#%% md\n"
    }
   }
  },
  {
   "cell_type": "code",
   "execution_count": 14,
   "outputs": [],
   "source": [
    "# Resize of layers and 1./255 done in the datagen\n",
    "# Also de data augmentation"
   ],
   "metadata": {
    "collapsed": false,
    "pycharm": {
     "name": "#%%\n"
    }
   }
  },
  {
   "cell_type": "markdown",
   "source": [],
   "metadata": {
    "collapsed": false,
    "pycharm": {
     "name": "#%% md\n"
    }
   }
  },
  {
   "cell_type": "markdown",
   "source": [],
   "metadata": {
    "collapsed": false,
    "pycharm": {
     "name": "#%% md\n"
    }
   }
  },
  {
   "cell_type": "markdown",
   "metadata": {
    "pycharm": {
     "name": "#%% md\n"
    }
   },
   "source": [
    "## Training the model\n",
    "The model images will be subjected to a pre-trained CNN model called MobileNetV2. Three callbacks will be utilized to monitor the training. These are: Model Checkpoint, Early Stopping, Tensorboard callback. The summary of the model hyperparameter is shown as follows:\n",
    "\n",
    "Batch size : BATCH_NUMBER (64)\n",
    "Epochs : EPOCHS\n",
    "Input Shape : (WIDTH, HEIGHT, CHANNEL_NUMBER) (28,28,1)\n",
    "Output layer : CLASS_NUMBER"
   ]
  },
  {
   "cell_type": "code",
   "execution_count": 15,
   "outputs": [
    {
     "data": {
      "text/plain": "\"pretrained_model = tf.keras.applications.MobileNetV2(\\n    input_shape=(IMG_WIDTH, IMG_HEIGHT, N_CHANNELS),\\n    include_top=False,\\n    weights='imagenet',\\n    pooling='avg'\\n)\\n\\npretrained_model.trainable = False\\n\\n\\n\\ninputs = pretrained_model.input\\nx = resize_and_rescale(inputs)\\n\\nx = Dense(256, activation='relu')(pretrained_model.output)\\nx = Dropout(0.2)(x)\\nx = Dense(256, activation='relu')(x)\\nx = Dropout(0.2)(x)\\n\\n\\noutputs = Dense(400, activation='softmax')(x)\\n\\nmodel = Model(inputs=inputs, outputs=outputs)\\n\\n\\n\""
     },
     "execution_count": 15,
     "metadata": {},
     "output_type": "execute_result"
    }
   ],
   "source": [
    "# Load the pretained model\n",
    "'''pretrained_model = tf.keras.applications.MobileNetV2(\n",
    "    input_shape=(IMG_WIDTH, IMG_HEIGHT, N_CHANNELS),\n",
    "    include_top=False,\n",
    "    weights='imagenet',\n",
    "    pooling='avg'\n",
    ")\n",
    "\n",
    "pretrained_model.trainable = False\n",
    "\n",
    "\n",
    "\n",
    "inputs = pretrained_model.input\n",
    "x = resize_and_rescale(inputs)\n",
    "\n",
    "x = Dense(256, activation='relu')(pretrained_model.output)\n",
    "x = Dropout(0.2)(x)\n",
    "x = Dense(256, activation='relu')(x)\n",
    "x = Dropout(0.2)(x)\n",
    "\n",
    "\n",
    "outputs = Dense(400, activation='softmax')(x)\n",
    "\n",
    "model = Model(inputs=inputs, outputs=outputs)\n",
    "\n",
    "\n",
    "'''"
   ],
   "metadata": {
    "collapsed": false,
    "pycharm": {
     "name": "#%%\n"
    }
   }
  },
  {
   "cell_type": "code",
   "execution_count": 16,
   "outputs": [
    {
     "data": {
      "text/plain": "'# Create the model\\n\\n# 1. Create a base model with tf.keras.applications\\nbase_model = tf.keras.applications.InceptionV3(include_top= False,)\\n\\n# 2. Freeze the base model\\nbase_model.trainable = False\\n\\n#3. Create inputs into models\\ninputs = tf.keras.layers.Input(shape =(IMG_HEIGHT,IMG_WIDTH,N_CHANNELS), name = \"input-layer\")\\n\\n#4. Rescaling -> it has been done already\\n#x = tf.keras.layers.experimental.preprocessing.Rescaling(1/255.)(inputs)\\n\\n#5. Pass the inputs\\nx = base_model(inputs)\\nprint(f\"Shape after passing inputs through base model: {x.shape}\")\\n\\n# 6. Average pool the outputs of the base model\\nx = tf.keras.layers.GlobalAveragePooling2D(name = \"global_average_pooling_layer\")(x)\\nprint(f\"Shape after GlobalAveragePooling2D: {x.shape}\")\\n\\n#7. Create the output activation layer\\noutputs = tf.keras.layers.Dense(CLASS_NUMBER, activation = \"softmax\", name = \"output-layer\")(x)\\n\\n# 8. Combine the inputs with outputs into a model\\nmodel_0 = tf.keras.Model(inputs, outputs)'"
     },
     "execution_count": 16,
     "metadata": {},
     "output_type": "execute_result"
    }
   ],
   "source": [
    "'''# Create the model\n",
    "\n",
    "# 1. Create a base model with tf.keras.applications\n",
    "base_model = tf.keras.applications.InceptionV3(include_top= False,)\n",
    "\n",
    "# 2. Freeze the base model\n",
    "base_model.trainable = False\n",
    "\n",
    "#3. Create inputs into models\n",
    "inputs = tf.keras.layers.Input(shape =(IMG_HEIGHT,IMG_WIDTH,N_CHANNELS), name = \"input-layer\")\n",
    "\n",
    "#4. Rescaling -> it has been done already\n",
    "#x = tf.keras.layers.experimental.preprocessing.Rescaling(1/255.)(inputs)\n",
    "\n",
    "#5. Pass the inputs\n",
    "x = base_model(inputs)\n",
    "print(f\"Shape after passing inputs through base model: {x.shape}\")\n",
    "\n",
    "# 6. Average pool the outputs of the base model\n",
    "x = tf.keras.layers.GlobalAveragePooling2D(name = \"global_average_pooling_layer\")(x)\n",
    "print(f\"Shape after GlobalAveragePooling2D: {x.shape}\")\n",
    "\n",
    "#7. Create the output activation layer\n",
    "outputs = tf.keras.layers.Dense(CLASS_NUMBER, activation = \"softmax\", name = \"output-layer\")(x)\n",
    "\n",
    "# 8. Combine the inputs with outputs into a model\n",
    "model_0 = tf.keras.Model(inputs, outputs)'''\n"
   ],
   "metadata": {
    "collapsed": false,
    "pycharm": {
     "name": "#%%\n"
    }
   }
  },
  {
   "cell_type": "code",
   "execution_count": 17,
   "outputs": [
    {
     "name": "stdout",
     "output_type": "stream",
     "text": [
      "Loading model from ../../models/v6\n",
      "Model Loaded successfully\n"
     ]
    }
   ],
   "source": [
    "MODEL_TO_LOAD = \"/saved_models/20221128_1310_90\"\n",
    "# MODEL_TO_LOAD = \"/saved_models/last_saved_model\"\n",
    "\n",
    "# if model_path exist, load model\n",
    "if MODEL_PATH:\n",
    "    print(\"Loading model from \" + MODEL_PATH)\n",
    "    model = tf.keras.models.load_model(MODEL_PATH + MODEL_TO_LOAD)\n",
    "    print(\"Model Loaded successfully\")\n",
    "else:\n",
    "    print(\"Creating Model\")\n",
    "\n",
    "    model = tf.keras.models.Sequential()\n",
    "    model.add(Conv2D(32,kernel_size=3,padding='same',activation='relu',\n",
    "            input_shape=(IMG_HEIGHT,IMG_WIDTH,N_CHANNELS)))\n",
    "    model.add(Conv2D(64,kernel_size=3,padding='same',activation='relu'))\n",
    "    model.add(MaxPool2D(padding='same'))\n",
    "    model.add(Conv2D(128,kernel_size=3,padding='same',activation='relu'))\n",
    "    model.add(MaxPool2D(padding='same'))\n",
    "    model.add(Flatten())\n",
    "    model.add(Dense(64, activation='relu'))\n",
    "    model.add(Dense(16, activation='relu'))\n",
    "    model.add(Dense(CLASS_NUMBER))"
   ],
   "metadata": {
    "collapsed": false,
    "pycharm": {
     "name": "#%%\n"
    }
   }
  },
  {
   "cell_type": "code",
   "execution_count": 18,
   "outputs": [
    {
     "name": "stdout",
     "output_type": "stream",
     "text": [
      "Model: \"sequential_1\"\n",
      "_________________________________________________________________\n",
      " Layer (type)                Output Shape              Param #   \n",
      "=================================================================\n",
      " conv2d_3 (Conv2D)           (None, 28, 28, 32)        320       \n",
      "                                                                 \n",
      " conv2d_4 (Conv2D)           (None, 28, 28, 64)        18496     \n",
      "                                                                 \n",
      " max_pooling2d_2 (MaxPooling  (None, 14, 14, 64)       0         \n",
      " 2D)                                                             \n",
      "                                                                 \n",
      " conv2d_5 (Conv2D)           (None, 14, 14, 128)       73856     \n",
      "                                                                 \n",
      " max_pooling2d_3 (MaxPooling  (None, 7, 7, 128)        0         \n",
      " 2D)                                                             \n",
      "                                                                 \n",
      " flatten_1 (Flatten)         (None, 6272)              0         \n",
      "                                                                 \n",
      " dense_3 (Dense)             (None, 64)                401472    \n",
      "                                                                 \n",
      " dense_4 (Dense)             (None, 16)                1040      \n",
      "                                                                 \n",
      " dense_5 (Dense)             (None, 10)                170       \n",
      "                                                                 \n",
      "=================================================================\n",
      "Total params: 495,354\n",
      "Trainable params: 495,354\n",
      "Non-trainable params: 0\n",
      "_________________________________________________________________\n"
     ]
    }
   ],
   "source": [
    "model.summary()"
   ],
   "metadata": {
    "collapsed": false,
    "pycharm": {
     "name": "#%%\n"
    }
   }
  },
  {
   "cell_type": "code",
   "execution_count": 19,
   "outputs": [],
   "source": [
    "# Create checkpoint callback\n",
    "# TODO check if just save weights or model + weight -> for the last iteration\n",
    "# save also the best in precission and other metrics, not only in accuracy, si mejora en precission -> model_best_prec, etc con todas las metrics\n",
    "checkpoint_path = \"classification_model_checkpoint\"\n",
    "checkpoint_callback = ModelCheckpoint(checkpoint_path,\n",
    "                                      save_weights_only=True,\n",
    "                                      monitor=\"val_accuracy\",\n",
    "                                      save_best_only=True)"
   ],
   "metadata": {
    "collapsed": false,
    "pycharm": {
     "name": "#%%\n"
    }
   }
  },
  {
   "cell_type": "code",
   "execution_count": 20,
   "outputs": [],
   "source": [
    "# Setup EarlyStopping callback to stop training if model's val_loss doesn't improve for 3 epochs\n",
    "\n",
    "early_stopping = EarlyStopping(monitor = \"val_loss\", # watch the val loss metric\n",
    "                               patience = PATIENCE_EARLY_STOPPING,\n",
    "                               restore_best_weights = True) # if val loss decreases for 3 epochs in a row, stop training"
   ],
   "metadata": {
    "collapsed": false,
    "pycharm": {
     "name": "#%%\n"
    }
   }
  },
  {
   "cell_type": "markdown",
   "source": [
    "## Training the model\n",
    "\n",
    "Compile and training"
   ],
   "metadata": {
    "collapsed": false,
    "pycharm": {
     "name": "#%% md\n"
    }
   }
  },
  {
   "cell_type": "code",
   "execution_count": 21,
   "outputs": [],
   "source": [
    "training_dataset = train_augmented_tf_ds\n",
    "validation_dataset = val_augmented_tf_ds"
   ],
   "metadata": {
    "collapsed": false,
    "pycharm": {
     "name": "#%%\n"
    }
   }
  },
  {
   "cell_type": "code",
   "execution_count": 22,
   "metadata": {
    "pycharm": {
     "name": "#%%\n"
    }
   },
   "outputs": [
    {
     "name": "stdout",
     "output_type": "stream",
     "text": [
      "Saving TensorBoard log files to: training_logs/mnist_classification/20221129-091238\n",
      "Epoch 1/10\n",
      "525/525 [==============================] - 208s 394ms/step - loss: 0.3477 - accuracy: 0.8915 - val_loss: 0.3475 - val_accuracy: 0.8906\n",
      "Epoch 2/10\n",
      "525/525 [==============================] - 61s 116ms/step - loss: 0.3382 - accuracy: 0.8964 - val_loss: 0.3259 - val_accuracy: 0.8983\n",
      "Epoch 3/10\n",
      "525/525 [==============================] - 59s 112ms/step - loss: 0.3345 - accuracy: 0.8972 - val_loss: 0.3326 - val_accuracy: 0.8960\n",
      "Epoch 4/10\n",
      "525/525 [==============================] - 59s 113ms/step - loss: 0.3245 - accuracy: 0.8997 - val_loss: 0.3187 - val_accuracy: 0.9009\n",
      "Epoch 5/10\n",
      "525/525 [==============================] - 64s 122ms/step - loss: 0.3178 - accuracy: 0.9031 - val_loss: 0.3021 - val_accuracy: 0.9045\n",
      "Epoch 6/10\n",
      "525/525 [==============================] - 58s 111ms/step - loss: 0.3150 - accuracy: 0.9015 - val_loss: 0.3091 - val_accuracy: 0.9045\n",
      "Epoch 7/10\n",
      "525/525 [==============================] - 66s 125ms/step - loss: 0.3101 - accuracy: 0.9063 - val_loss: 0.3013 - val_accuracy: 0.9036\n",
      "Epoch 8/10\n",
      "525/525 [==============================] - 54s 102ms/step - loss: 0.3018 - accuracy: 0.9073 - val_loss: 0.2952 - val_accuracy: 0.9021\n",
      "Epoch 9/10\n",
      "525/525 [==============================] - 57s 108ms/step - loss: 0.2966 - accuracy: 0.9077 - val_loss: 0.2952 - val_accuracy: 0.9050\n",
      "Epoch 10/10\n",
      "525/525 [==============================] - 60s 114ms/step - loss: 0.2880 - accuracy: 0.9124 - val_loss: 0.2818 - val_accuracy: 0.9104\n"
     ]
    }
   ],
   "source": [
    "# 9. Compile the model\n",
    "loss = tf.keras.losses.SparseCategoricalCrossentropy(from_logits=FROM_LOGITS)\n",
    "# loss = \"sparse_categorical_crossentropy\"\n",
    "optimizer = SGD(learning_rate=0.001)\n",
    "# optimizer = tf.keras.optimizers.Adam(learning_rate = 0.01)\n",
    "metrics = [\"accuracy\"]\n",
    "\n",
    "\n",
    "model.compile(loss = loss,\n",
    "                optimizer = optimizer,\n",
    "                metrics = metrics)\n",
    "\n",
    "# to measure time\n",
    "start_time = time.time()\n",
    "\n",
    "history = model.fit(\n",
    "    training_dataset,\n",
    "    # steps_per_epoch=len(training_dataset),\n",
    "    validation_data=validation_dataset,\n",
    "    # validation_steps=len(training_dataset),\n",
    "    epochs=EPOCHS,\n",
    "    batch_size = BATCH_NUMBER,\n",
    "    callbacks=[\n",
    "        early_stopping,\n",
    "        create_tensorboard_callback(\"training_logs\",\n",
    "                                    \"mnist_classification\"),\n",
    "        checkpoint_callback,\n",
    "    ],\n",
    "    verbose = 1,\n",
    ")\n",
    "\n",
    "end_time = time.time()"
   ]
  },
  {
   "cell_type": "markdown",
   "source": [],
   "metadata": {
    "collapsed": false,
    "pycharm": {
     "name": "#%% md\n"
    }
   }
  },
  {
   "cell_type": "code",
   "execution_count": 23,
   "outputs": [
    {
     "name": "stdout",
     "output_type": "stream",
     "text": [
      "--- 746.1354911327362 seconds ---\n"
     ]
    }
   ],
   "source": [
    "# Print time of model training\n",
    "print(\"--- %s seconds ---\" % (end_time - start_time))"
   ],
   "metadata": {
    "collapsed": false,
    "pycharm": {
     "name": "#%%\n"
    }
   }
  },
  {
   "cell_type": "markdown",
   "source": [],
   "metadata": {
    "collapsed": false,
    "pycharm": {
     "name": "#%% md\n"
    }
   }
  },
  {
   "cell_type": "markdown",
   "source": [],
   "metadata": {
    "collapsed": false,
    "pycharm": {
     "name": "#%% md\n"
    }
   }
  },
  {
   "cell_type": "markdown",
   "source": [],
   "metadata": {
    "collapsed": false,
    "pycharm": {
     "name": "#%% md\n"
    }
   }
  },
  {
   "cell_type": "markdown",
   "source": [],
   "metadata": {
    "collapsed": false,
    "pycharm": {
     "name": "#%% md\n"
    }
   }
  },
  {
   "cell_type": "markdown",
   "source": [
    "## Evaluation"
   ],
   "metadata": {
    "collapsed": false,
    "pycharm": {
     "name": "#%% md\n"
    }
   }
  },
  {
   "cell_type": "code",
   "execution_count": 24,
   "outputs": [
    {
     "name": "stdout",
     "output_type": "stream",
     "text": [
      "Found 1900 validated image filenames.\n"
     ]
    }
   ],
   "source": [
    "# to create the balanced dataframes:\n",
    "test_df = create_balanced_dataframes(TEST_CSV, CSV_FOLDER)\n",
    "\n",
    "# Tensorflow dataframe generation\n",
    "# test_num_instances, test_tf_dataset = create_tf_ds(test_df)\n",
    "test_augmented_tf_ds = create_augmented_tensorflow_dataset(test_df)"
   ],
   "metadata": {
    "collapsed": false,
    "pycharm": {
     "name": "#%%\n"
    }
   }
  },
  {
   "cell_type": "markdown",
   "metadata": {
    "pycharm": {
     "name": "#%% md\n"
    }
   },
   "source": [
    "The test dataset will be used to evaluate the performance of the model.One of the metrics that will be tested would be accuracy which measures the fraction of predictions the model got right. Other metrics are as follows:\n",
    "\n",
    "Precision(P): The fraction of true positives (TP, correct predictions) from the total amount of relevant results, i.e., the sum of TP and false positives (FP). For multi-class classification problems, P is averaged among the classes. The following is the formula for precision.\n",
    "\n",
    "\n",
    "Recall(R): The fraction of TP from the total amount of TP and false negatives (FN). For multi-class classification problems, R gets averaged among all the classes. The following is the formula for recall.\n",
    "\n",
    "\n",
    "F1 score(F1): The harmonic mean of precision and recall. For multi-class classification problems, F1 gets averaged among all the classes. The following is the formula for F1 score.\n"
   ]
  },
  {
   "cell_type": "code",
   "execution_count": 25,
   "outputs": [],
   "source": [
    "test_dataset = test_augmented_tf_ds"
   ],
   "metadata": {
    "collapsed": false,
    "pycharm": {
     "name": "#%%\n"
    }
   }
  },
  {
   "cell_type": "code",
   "execution_count": 26,
   "metadata": {
    "pycharm": {
     "name": "#%%\n"
    }
   },
   "outputs": [
    {
     "name": "stdout",
     "output_type": "stream",
     "text": [
      "    Test Loss: 0.24379\n",
      "Test Accuracy: 92.05%\n"
     ]
    }
   ],
   "source": [
    "results = model.evaluate(test_dataset, verbose=0)\n",
    "\n",
    "print(\"    Test Loss: {:.5f}\".format(results[0]))\n",
    "print(\"Test Accuracy: {:.2f}%\".format(results[1] * 100))"
   ]
  },
  {
   "cell_type": "code",
   "execution_count": 33,
   "outputs": [
    {
     "name": "stderr",
     "output_type": "stream",
     "text": [
      "WARNING:absl:Found untraced functions such as _jit_compiled_convolution_op, _jit_compiled_convolution_op, _jit_compiled_convolution_op while saving (showing 3 of 3). These functions will not be directly callable after loading.\n"
     ]
    },
    {
     "name": "stdout",
     "output_type": "stream",
     "text": [
      "INFO:tensorflow:Assets written to: ../../saved_models/20221129_0948_92\\assets\n"
     ]
    },
    {
     "name": "stderr",
     "output_type": "stream",
     "text": [
      "INFO:tensorflow:Assets written to: ../../saved_models/20221129_0948_92\\assets\n"
     ]
    }
   ],
   "source": [
    "# Save the weights\n",
    "model.save('../../saved_models/20221129_0948_92')"
   ],
   "metadata": {
    "collapsed": false,
    "pycharm": {
     "name": "#%%\n"
    }
   }
  },
  {
   "cell_type": "code",
   "execution_count": 33,
   "outputs": [],
   "source": [],
   "metadata": {
    "collapsed": false,
    "pycharm": {
     "name": "#%%\n"
    }
   }
  },
  {
   "cell_type": "markdown",
   "source": [
    "### Visualizing Loss Curves"
   ],
   "metadata": {
    "collapsed": false,
    "pycharm": {
     "name": "#%% md\n"
    }
   }
  },
  {
   "cell_type": "code",
   "execution_count": 34,
   "outputs": [],
   "source": [
    "def plot_loss_curves(model_history):\n",
    "\n",
    "  loss = model_history.history[\"loss\"]\n",
    "  val_loss = model_history.history[\"val_loss\"]\n",
    "\n",
    "  accuracy = model_history.history[\"accuracy\"]\n",
    "  val_accuracy = model_history.history[\"val_accuracy\"]\n",
    "\n",
    "  epochs = range(len(model_history.history[\"loss\"]))\n",
    "\n",
    "  #plot loss\n",
    "  plt.plot(epochs, loss, label = \"training_loss\")\n",
    "  plt.plot(epochs, val_loss, label = \"val_loss\")\n",
    "  plt.title(\"loss\")\n",
    "  plt.xlabel(\"epochs\")\n",
    "  plt.legend()\n",
    "\n",
    "  #plot accuracy\n",
    "  plt.figure()\n",
    "  plt.plot(epochs, accuracy, label = \"training_accuracy\")\n",
    "  plt.plot(epochs, val_accuracy, label = \"val_accuracy\")\n",
    "  plt.title(\"accuracy\")\n",
    "  plt.xlabel(\"epochs\")\n",
    "  plt.legend()"
   ],
   "metadata": {
    "collapsed": false,
    "pycharm": {
     "name": "#%%\n"
    }
   }
  },
  {
   "cell_type": "code",
   "execution_count": 35,
   "metadata": {
    "pycharm": {
     "name": "#%%\n"
    }
   },
   "outputs": [
    {
     "data": {
      "text/plain": "<Figure size 640x480 with 1 Axes>",
      "image/png": "[encoded data removed]"
     },
     "metadata": {},
     "output_type": "display_data"
    },
    {
     "data": {
      "text/plain": "<Figure size 640x480 with 1 Axes>",
      "image/png": "[encoded data removed]"
     },
     "metadata": {},
     "output_type": "display_data"
    }
   ],
   "source": [
    "plot_loss_curves(history)"
   ]
  },
  {
   "cell_type": "markdown",
   "source": [
    "### Plotting the Classification Reports and Confusion Matrix"
   ],
   "metadata": {
    "collapsed": false,
    "pycharm": {
     "name": "#%% md\n"
    }
   }
  },
  {
   "cell_type": "code",
   "execution_count": 36,
   "outputs": [],
   "source": [
    "dataset_column = \"label\" # 1\n",
    "\n",
    "def Confusion(model, pandas_dataframe, dataset):\n",
    "  '''\n",
    "  Función para mostrar la matriz de confusión y el reporte de clasificación de un modelo dado ante un csv\n",
    "\n",
    "  Parámetros de entrada:\n",
    "  model: modelo que se quiere probar\n",
    "  csv: nombre del csv para probar el modelo\n",
    "\n",
    "  Ejemplo de uso:\n",
    "  model = tf.keras.models.load_model(os.path.join(dir_modelos, \"Xcep3.h5\"))\n",
    "\n",
    "  Confusion(model, 'df_test.csv')\n",
    "\n",
    "  '''\n",
    "\n",
    "  # variables a utilizar\n",
    "  y_true = [] # lista vacia para guardar las respuestas\n",
    "  labels = pandas_dataframe[dataset_column].unique() # lista de las clases\n",
    "  num_clases = len(labels)\n",
    "  # num_clases = len(CLASSES)\n",
    "  dicc = dict(zip(labels, list(range(num_clases)))) # diccionario con las etiquetas y su respectivo número\n",
    "  lista = list(pandas_dataframe[dataset_column]) # lista con los valores reales\n",
    "\n",
    "  # predicciones en número\n",
    "  y_pred = np.argmax(model.predict(dataset), axis=-1)\n",
    "  # llevo las predicciones a texto para poder comparar\n",
    "  for a in lista:\n",
    "    y_true.append(dicc[a])\n",
    "\n",
    "  # Confusion Matrix\n",
    "  fig, ax = plt.subplots(figsize=(7,7))\n",
    "  conf_matrix = confusion_matrix(y_true, y_pred, labels=np.arange(num_clases))\n",
    "  conf_matrix = conf_matrix/np.sum(conf_matrix, axis=1)\n",
    "  sns.heatmap(conf_matrix, annot=True, fmt=\".2f\", square=True, cbar=False,\n",
    "                cmap=plt.cm.jet, xticklabels=CLASSES, yticklabels=CLASSES,\n",
    "                ax=ax)\n",
    "  ax.set_ylabel('Actual')\n",
    "  ax.set_xlabel('Predicted')\n",
    "  ax.set_title('Confusion Matrix')\n",
    "  plt.show()\n",
    "\n",
    "  # hago el reporte de clasficación\n",
    "  print('Classification Report:')\n",
    "  print(classification_report(y_true, y_pred, labels=np.arange(num_clases), target_names=CLASSES))"
   ],
   "metadata": {
    "collapsed": false,
    "pycharm": {
     "name": "#%%\n"
    }
   }
  },
  {
   "cell_type": "code",
   "execution_count": 37,
   "outputs": [
    {
     "name": "stdout",
     "output_type": "stream",
     "text": [
      "30/30 [==============================] - 3s 83ms/step\n"
     ]
    },
    {
     "data": {
      "text/plain": "<Figure size 700x700 with 1 Axes>",
      "image/png": "[encoded data removed]"
     },
     "metadata": {},
     "output_type": "display_data"
    },
    {
     "name": "stdout",
     "output_type": "stream",
     "text": [
      "Classification Report:\n",
      "              precision    recall  f1-score   support\n",
      "\n",
      "           0       0.12      0.13      0.12       190\n",
      "           1       0.08      0.08      0.08       190\n",
      "           2       0.10      0.11      0.10       190\n",
      "           3       0.09      0.08      0.09       190\n",
      "           4       0.09      0.08      0.09       190\n",
      "           5       0.09      0.09      0.09       190\n",
      "           6       0.10      0.11      0.10       190\n",
      "           7       0.08      0.08      0.08       190\n",
      "           8       0.12      0.13      0.12       190\n",
      "           9       0.09      0.09      0.09       190\n",
      "\n",
      "    accuracy                           0.10      1900\n",
      "   macro avg       0.10      0.10      0.10      1900\n",
      "weighted avg       0.10      0.10      0.10      1900\n",
      "\n"
     ]
    }
   ],
   "source": [
    "Confusion(model, test_df, test_dataset)"
   ],
   "metadata": {
    "collapsed": false,
    "pycharm": {
     "name": "#%%\n"
    }
   }
  },
  {
   "cell_type": "code",
   "execution_count": 39,
   "outputs": [
    {
     "name": "stdout",
     "output_type": "stream",
     "text": [
      "99/99 [==============================] - 5s 52ms/step\n"
     ]
    },
    {
     "ename": "ValueError",
     "evalue": "Found input variables with inconsistent numbers of samples: [5700, 6305]",
     "output_type": "error",
     "traceback": [
      "\u001B[1;31m---------------------------------------------------------------------------\u001B[0m",
      "\u001B[1;31mValueError\u001B[0m                                Traceback (most recent call last)",
      "Cell \u001B[1;32mIn [39], line 1\u001B[0m\n\u001B[1;32m----> 1\u001B[0m \u001B[43mConfusion\u001B[49m\u001B[43m(\u001B[49m\u001B[43mmodel\u001B[49m\u001B[43m,\u001B[49m\u001B[43m \u001B[49m\u001B[43mval_df\u001B[49m\u001B[43m,\u001B[49m\u001B[43m \u001B[49m\u001B[43mvalidation_dataset\u001B[49m\u001B[43m)\u001B[49m\n",
      "Cell \u001B[1;32mIn [36], line 34\u001B[0m, in \u001B[0;36mConfusion\u001B[1;34m(model, pandas_dataframe, dataset)\u001B[0m\n\u001B[0;32m     32\u001B[0m \u001B[38;5;66;03m# Confusion Matrix\u001B[39;00m\n\u001B[0;32m     33\u001B[0m fig, ax \u001B[38;5;241m=\u001B[39m plt\u001B[38;5;241m.\u001B[39msubplots(figsize\u001B[38;5;241m=\u001B[39m(\u001B[38;5;241m7\u001B[39m,\u001B[38;5;241m7\u001B[39m))\n\u001B[1;32m---> 34\u001B[0m conf_matrix \u001B[38;5;241m=\u001B[39m \u001B[43mconfusion_matrix\u001B[49m\u001B[43m(\u001B[49m\u001B[43my_true\u001B[49m\u001B[43m,\u001B[49m\u001B[43m \u001B[49m\u001B[43my_pred\u001B[49m\u001B[43m,\u001B[49m\u001B[43m \u001B[49m\u001B[43mlabels\u001B[49m\u001B[38;5;241;43m=\u001B[39;49m\u001B[43mnp\u001B[49m\u001B[38;5;241;43m.\u001B[39;49m\u001B[43marange\u001B[49m\u001B[43m(\u001B[49m\u001B[43mnum_clases\u001B[49m\u001B[43m)\u001B[49m\u001B[43m)\u001B[49m\n\u001B[0;32m     35\u001B[0m conf_matrix \u001B[38;5;241m=\u001B[39m conf_matrix\u001B[38;5;241m/\u001B[39mnp\u001B[38;5;241m.\u001B[39msum(conf_matrix, axis\u001B[38;5;241m=\u001B[39m\u001B[38;5;241m1\u001B[39m)\n\u001B[0;32m     36\u001B[0m sns\u001B[38;5;241m.\u001B[39mheatmap(conf_matrix, annot\u001B[38;5;241m=\u001B[39m\u001B[38;5;28;01mTrue\u001B[39;00m, fmt\u001B[38;5;241m=\u001B[39m\u001B[38;5;124m\"\u001B[39m\u001B[38;5;124m.2f\u001B[39m\u001B[38;5;124m\"\u001B[39m, square\u001B[38;5;241m=\u001B[39m\u001B[38;5;28;01mTrue\u001B[39;00m, cbar\u001B[38;5;241m=\u001B[39m\u001B[38;5;28;01mFalse\u001B[39;00m,\n\u001B[0;32m     37\u001B[0m               cmap\u001B[38;5;241m=\u001B[39mplt\u001B[38;5;241m.\u001B[39mcm\u001B[38;5;241m.\u001B[39mjet, xticklabels\u001B[38;5;241m=\u001B[39mCLASSES, yticklabels\u001B[38;5;241m=\u001B[39mCLASSES,\n\u001B[0;32m     38\u001B[0m               ax\u001B[38;5;241m=\u001B[39max)\n",
      "File \u001B[1;32m~\\.virtualenvs\\tensorflow_cpu\\lib\\site-packages\\sklearn\\metrics\\_classification.py:307\u001B[0m, in \u001B[0;36mconfusion_matrix\u001B[1;34m(y_true, y_pred, labels, sample_weight, normalize)\u001B[0m\n\u001B[0;32m    222\u001B[0m \u001B[38;5;28;01mdef\u001B[39;00m \u001B[38;5;21mconfusion_matrix\u001B[39m(\n\u001B[0;32m    223\u001B[0m     y_true, y_pred, \u001B[38;5;241m*\u001B[39m, labels\u001B[38;5;241m=\u001B[39m\u001B[38;5;28;01mNone\u001B[39;00m, sample_weight\u001B[38;5;241m=\u001B[39m\u001B[38;5;28;01mNone\u001B[39;00m, normalize\u001B[38;5;241m=\u001B[39m\u001B[38;5;28;01mNone\u001B[39;00m\n\u001B[0;32m    224\u001B[0m ):\n\u001B[0;32m    225\u001B[0m     \u001B[38;5;124;03m\"\"\"Compute confusion matrix to evaluate the accuracy of a classification.\u001B[39;00m\n\u001B[0;32m    226\u001B[0m \n\u001B[0;32m    227\u001B[0m \u001B[38;5;124;03m    By definition a confusion matrix :math:`C` is such that :math:`C_{i, j}`\u001B[39;00m\n\u001B[1;32m   (...)\u001B[0m\n\u001B[0;32m    305\u001B[0m \u001B[38;5;124;03m    (0, 2, 1, 1)\u001B[39;00m\n\u001B[0;32m    306\u001B[0m \u001B[38;5;124;03m    \"\"\"\u001B[39;00m\n\u001B[1;32m--> 307\u001B[0m     y_type, y_true, y_pred \u001B[38;5;241m=\u001B[39m \u001B[43m_check_targets\u001B[49m\u001B[43m(\u001B[49m\u001B[43my_true\u001B[49m\u001B[43m,\u001B[49m\u001B[43m \u001B[49m\u001B[43my_pred\u001B[49m\u001B[43m)\u001B[49m\n\u001B[0;32m    308\u001B[0m     \u001B[38;5;28;01mif\u001B[39;00m y_type \u001B[38;5;129;01mnot\u001B[39;00m \u001B[38;5;129;01min\u001B[39;00m (\u001B[38;5;124m\"\u001B[39m\u001B[38;5;124mbinary\u001B[39m\u001B[38;5;124m\"\u001B[39m, \u001B[38;5;124m\"\u001B[39m\u001B[38;5;124mmulticlass\u001B[39m\u001B[38;5;124m\"\u001B[39m):\n\u001B[0;32m    309\u001B[0m         \u001B[38;5;28;01mraise\u001B[39;00m \u001B[38;5;167;01mValueError\u001B[39;00m(\u001B[38;5;124m\"\u001B[39m\u001B[38;5;132;01m%s\u001B[39;00m\u001B[38;5;124m is not supported\u001B[39m\u001B[38;5;124m\"\u001B[39m \u001B[38;5;241m%\u001B[39m y_type)\n",
      "File \u001B[1;32m~\\.virtualenvs\\tensorflow_cpu\\lib\\site-packages\\sklearn\\metrics\\_classification.py:84\u001B[0m, in \u001B[0;36m_check_targets\u001B[1;34m(y_true, y_pred)\u001B[0m\n\u001B[0;32m     57\u001B[0m \u001B[38;5;28;01mdef\u001B[39;00m \u001B[38;5;21m_check_targets\u001B[39m(y_true, y_pred):\n\u001B[0;32m     58\u001B[0m     \u001B[38;5;124;03m\"\"\"Check that y_true and y_pred belong to the same classification task.\u001B[39;00m\n\u001B[0;32m     59\u001B[0m \n\u001B[0;32m     60\u001B[0m \u001B[38;5;124;03m    This converts multiclass or binary types to a common shape, and raises a\u001B[39;00m\n\u001B[1;32m   (...)\u001B[0m\n\u001B[0;32m     82\u001B[0m \u001B[38;5;124;03m    y_pred : array or indicator matrix\u001B[39;00m\n\u001B[0;32m     83\u001B[0m \u001B[38;5;124;03m    \"\"\"\u001B[39;00m\n\u001B[1;32m---> 84\u001B[0m     \u001B[43mcheck_consistent_length\u001B[49m\u001B[43m(\u001B[49m\u001B[43my_true\u001B[49m\u001B[43m,\u001B[49m\u001B[43m \u001B[49m\u001B[43my_pred\u001B[49m\u001B[43m)\u001B[49m\n\u001B[0;32m     85\u001B[0m     type_true \u001B[38;5;241m=\u001B[39m type_of_target(y_true, input_name\u001B[38;5;241m=\u001B[39m\u001B[38;5;124m\"\u001B[39m\u001B[38;5;124my_true\u001B[39m\u001B[38;5;124m\"\u001B[39m)\n\u001B[0;32m     86\u001B[0m     type_pred \u001B[38;5;241m=\u001B[39m type_of_target(y_pred, input_name\u001B[38;5;241m=\u001B[39m\u001B[38;5;124m\"\u001B[39m\u001B[38;5;124my_pred\u001B[39m\u001B[38;5;124m\"\u001B[39m)\n",
      "File \u001B[1;32m~\\.virtualenvs\\tensorflow_cpu\\lib\\site-packages\\sklearn\\utils\\validation.py:387\u001B[0m, in \u001B[0;36mcheck_consistent_length\u001B[1;34m(*arrays)\u001B[0m\n\u001B[0;32m    385\u001B[0m uniques \u001B[38;5;241m=\u001B[39m np\u001B[38;5;241m.\u001B[39munique(lengths)\n\u001B[0;32m    386\u001B[0m \u001B[38;5;28;01mif\u001B[39;00m \u001B[38;5;28mlen\u001B[39m(uniques) \u001B[38;5;241m>\u001B[39m \u001B[38;5;241m1\u001B[39m:\n\u001B[1;32m--> 387\u001B[0m     \u001B[38;5;28;01mraise\u001B[39;00m \u001B[38;5;167;01mValueError\u001B[39;00m(\n\u001B[0;32m    388\u001B[0m         \u001B[38;5;124m\"\u001B[39m\u001B[38;5;124mFound input variables with inconsistent numbers of samples: \u001B[39m\u001B[38;5;132;01m%r\u001B[39;00m\u001B[38;5;124m\"\u001B[39m\n\u001B[0;32m    389\u001B[0m         \u001B[38;5;241m%\u001B[39m [\u001B[38;5;28mint\u001B[39m(l) \u001B[38;5;28;01mfor\u001B[39;00m l \u001B[38;5;129;01min\u001B[39;00m lengths]\n\u001B[0;32m    390\u001B[0m     )\n",
      "\u001B[1;31mValueError\u001B[0m: Found input variables with inconsistent numbers of samples: [5700, 6305]"
     ]
    },
    {
     "data": {
      "text/plain": "<Figure size 700x700 with 1 Axes>",
      "image/png": "[encoded data removed]"
     },
     "metadata": {},
     "output_type": "display_data"
    }
   ],
   "source": [
    "Confusion(model, val_df, validation_dataset)"
   ],
   "metadata": {
    "collapsed": false,
    "pycharm": {
     "name": "#%%\n"
    }
   }
  },
  {
   "cell_type": "code",
   "execution_count": null,
   "outputs": [],
   "source": [],
   "metadata": {
    "collapsed": false,
    "pycharm": {
     "name": "#%%\n"
    }
   }
  }
 ],
 "metadata": {
  "kernelspec": {
   "display_name": "Python 3",
   "language": "python",
   "name": "python3"
  },
  "language_info": {
   "codemirror_mode": {
    "name": "ipython",
    "version": 3
   },
   "file_extension": ".py",
   "mimetype": "text/x-python",
   "name": "python",
   "nbconvert_exporter": "python",
   "pygments_lexer": "ipython3",
   "version": "3.8.8"
  }
 },
 "nbformat": 4,
 "nbformat_minor": 1
}